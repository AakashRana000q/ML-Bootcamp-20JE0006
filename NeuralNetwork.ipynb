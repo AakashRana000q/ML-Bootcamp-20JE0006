{
 "cells": [
  {
   "cell_type": "code",
   "execution_count": 148,
   "id": "global-anniversary",
   "metadata": {},
   "outputs": [],
   "source": [
    "import pandas as pd\n",
    "import numpy as np\n",
    "import math\n",
    "import matplotlib.pyplot as plt\n",
    "import random\n",
    "\n",
    "from sklearn import preprocessing\n",
    "from pandas import DataFrame"
   ]
  },
  {
   "cell_type": "code",
   "execution_count": 149,
   "id": "pleased-fetish",
   "metadata": {},
   "outputs": [],
   "source": [
    "train_df = pd.read_csv(\"C:/Users/Dell/Dropbox (Old)/My PC (DESKTOP-9I2HO18)/Downloads/mnist_train_small.csv\")"
   ]
  },
  {
   "cell_type": "code",
   "execution_count": 150,
   "id": "alleged-period",
   "metadata": {},
   "outputs": [],
   "source": [
    "Standardisation = preprocessing.StandardScaler()"
   ]
  },
  {
   "cell_type": "code",
   "execution_count": 151,
   "id": "sweet-gasoline",
   "metadata": {},
   "outputs": [],
   "source": [
    "def sigmoid(z):\n",
    "    return (1.0 / (1 + np.exp(-z)))"
   ]
  },
  {
   "cell_type": "code",
   "execution_count": 152,
   "id": "entitled-schema",
   "metadata": {},
   "outputs": [],
   "source": [
    "num_col=train_df.shape[1]"
   ]
  },
  {
   "cell_type": "code",
   "execution_count": 153,
   "id": "cooperative-affairs",
   "metadata": {},
   "outputs": [],
   "source": [
    "num_row=train_df.shape[0]"
   ]
  },
  {
   "cell_type": "code",
   "execution_count": 154,
   "id": "integral-disorder",
   "metadata": {},
   "outputs": [],
   "source": [
    "x_train=train_df.drop([\"6\"],axis=1)"
   ]
  },
  {
   "cell_type": "code",
   "execution_count": 155,
   "id": "boxed-sport",
   "metadata": {},
   "outputs": [],
   "source": [
    "list1=np.ones(num_row, dtype = float)"
   ]
  },
  {
   "cell_type": "code",
   "execution_count": 156,
   "id": "worthy-retirement",
   "metadata": {},
   "outputs": [],
   "source": [
    "x_train.insert(loc=0, column='A', value=list1)"
   ]
  },
  {
   "cell_type": "code",
   "execution_count": 157,
   "id": "oriented-rally",
   "metadata": {},
   "outputs": [],
   "source": [
    "x_train=x_train.to_numpy()"
   ]
  },
  {
   "cell_type": "code",
   "execution_count": 158,
   "id": "exempt-difference",
   "metadata": {},
   "outputs": [],
   "source": [
    "x_train=Standardisation.fit_transform(x_train)"
   ]
  },
  {
   "cell_type": "code",
   "execution_count": 159,
   "id": "mental-tsunami",
   "metadata": {},
   "outputs": [
    {
     "data": {
      "text/plain": [
       "(19999, 785)"
      ]
     },
     "execution_count": 159,
     "metadata": {},
     "output_type": "execute_result"
    }
   ],
   "source": [
    "x_train.shape"
   ]
  },
  {
   "cell_type": "code",
   "execution_count": 160,
   "id": "south-sense",
   "metadata": {},
   "outputs": [],
   "source": [
    "y_train=train_df[\"6\"]"
   ]
  },
  {
   "cell_type": "code",
   "execution_count": 161,
   "id": "civilian-digest",
   "metadata": {},
   "outputs": [],
   "source": [
    "y_train=y_train.to_numpy()"
   ]
  },
  {
   "cell_type": "code",
   "execution_count": 162,
   "id": "mexican-collection",
   "metadata": {},
   "outputs": [],
   "source": [
    "y_train=y_train.reshape(1,num_row)"
   ]
  },
  {
   "cell_type": "code",
   "execution_count": 163,
   "id": "arctic-pharmacy",
   "metadata": {},
   "outputs": [
    {
     "data": {
      "text/plain": [
       "(1, 19999)"
      ]
     },
     "execution_count": 163,
     "metadata": {},
     "output_type": "execute_result"
    }
   ],
   "source": [
    "y_train.shape"
   ]
  },
  {
   "cell_type": "code",
   "execution_count": 216,
   "id": "enormous-pearl",
   "metadata": {},
   "outputs": [],
   "source": [
    "class neural_network:\n",
    "    def __init__(self,x_train,y_train,no_of_iters,learn_rate,a,b):\n",
    "        self.x_train=x_train\n",
    "        self.y_train=y_train\n",
    "        #self.change=number\n",
    "        self.numrain=no_of_iters\n",
    "        self.rate=learn_rate\n",
    "        self.numrow=a\n",
    "        self.numcol=b\n",
    "        '''for i in range(0,a):      \n",
    "            if self.y_train[0][i]==self.change:\n",
    "                self.y_train[0][i]=1\n",
    "            else:\n",
    "                self.y_train[0][i]=0'''\n",
    "    def training(self):\n",
    "        theta1=np.random.rand(self.numcol,4)\n",
    "        theta1=theta1/10\n",
    "        theta2=np.random.rand(5,4)\n",
    "        theta2=theta2\n",
    "        theta3=np.random.rand(5,10)\n",
    "        theta3=theta3*10\n",
    "        for i in range(0,self.numrain):\n",
    "            X=x_train[i].reshape(1,self.numcol)\n",
    "            x1=X.reshape(785,1)\n",
    "            \n",
    "            #theta1=np.random.rand(self.numcol,4)\n",
    "            z1=np.dot(X,theta1)\n",
    "            a1=sigmoid(z1)\n",
    "            a11=np.insert(a1,0,1,axis = 1)\n",
    "            a11res=a11.reshape(5,1)\n",
    "            ma1=1-a1\n",
    "            ma1=ma1.reshape(4,1)\n",
    "            \n",
    "            \n",
    "            #theta2=np.random.rand(5,4)\n",
    "            z2=np.dot(a11,theta2)\n",
    "            a2=sigmoid(z2)\n",
    "            a21=np.insert(a2,0,1,axis = 1)\n",
    "            a21res=a21.reshape(5,1)\n",
    "            ma2=1-a2\n",
    "            ma2=ma2.reshape(4,1)\n",
    "            \n",
    "            #theta3=np.random.rand(5,10)\n",
    "            z3=np.dot(a21,theta3)\n",
    "            a3=sigmoid(z3)\n",
    "            ma3=1-a3\n",
    "            ma3=ma3.reshape(10,1)\n",
    "            \n",
    "            y=np.zeros((1,10))\n",
    "            o=self.y_train[0][i]\n",
    "            y[0][o]=1\n",
    "            \n",
    "            dell3=a3-y\n",
    "            \n",
    "            theta3res=theta3.reshape(10,5)\n",
    "            dell2=np.dot(dell3,theta3res)\n",
    "            dell2rem=np.delete(dell2, 0, axis=1)\n",
    "            \n",
    "            theta2res=theta2.reshape(4,5)\n",
    "            dell1=np.dot(dell2rem,theta2res)\n",
    "            dell1rem=np.delete(dell1, 0, axis=1)\n",
    "            \n",
    "            \n",
    "            three=np.dot(ma3,a3)\n",
    "            three1=np.dot(dell3,three)\n",
    "            theta3upd=np.dot(a21res,three1)\n",
    "            \n",
    "            \n",
    "            two=np.dot(ma2,a2)\n",
    "            two1=np.dot(dell2rem,two)\n",
    "            theta2upd=np.dot(a11res,two1)\n",
    "            \n",
    "            one=np.dot(ma1,a1)\n",
    "            one1=np.dot(dell1rem,one)\n",
    "            theta1upd=np.dot(x1,one1)\n",
    "            \n",
    "            theta1=theta1-((self.rate*(theta1upd)))\n",
    "            theta2=theta2-((self.rate*(theta2upd)))\n",
    "            theta3=theta3-((self.rate*(theta3upd)))\n",
    "        thetas=[theta1,theta2,theta3]\n",
    "        return (thetas)\n",
    "            \n",
    "            \n",
    "            \n",
    "            \n",
    "            \n",
    "            \n",
    "            \n",
    "            \n",
    "            "
   ]
  },
  {
   "cell_type": "code",
   "execution_count": 217,
   "id": "comfortable-leone",
   "metadata": {},
   "outputs": [],
   "source": [
    "thetas=neural_network(x_train,y_train,1000,0.0001,num_row,num_col).training()"
   ]
  },
  {
   "cell_type": "code",
   "execution_count": 218,
   "id": "broad-repair",
   "metadata": {},
   "outputs": [],
   "source": [
    "theta1=thetas[0]"
   ]
  },
  {
   "cell_type": "code",
   "execution_count": 219,
   "id": "loved-passport",
   "metadata": {},
   "outputs": [],
   "source": [
    "theta2=thetas[1]"
   ]
  },
  {
   "cell_type": "code",
   "execution_count": 220,
   "id": "tired-latvia",
   "metadata": {},
   "outputs": [],
   "source": [
    "theta3=thetas[2]"
   ]
  },
  {
   "cell_type": "code",
   "execution_count": 169,
   "id": "tropical-square",
   "metadata": {},
   "outputs": [],
   "source": [
    "test_df = pd.read_csv(\"C:/Users/Dell/Dropbox (Old)/My PC (DESKTOP-9I2HO18)/Downloads/mnist_test.csv\")"
   ]
  },
  {
   "cell_type": "code",
   "execution_count": 170,
   "id": "appreciated-engagement",
   "metadata": {},
   "outputs": [],
   "source": [
    "num_col1=test_df.shape[1]"
   ]
  },
  {
   "cell_type": "code",
   "execution_count": 171,
   "id": "utility-parcel",
   "metadata": {},
   "outputs": [],
   "source": [
    "num_row1=test_df.shape[0]"
   ]
  },
  {
   "cell_type": "code",
   "execution_count": 172,
   "id": "social-studio",
   "metadata": {},
   "outputs": [],
   "source": [
    "feat1=test_df.drop([\"7\"],axis=1) "
   ]
  },
  {
   "cell_type": "code",
   "execution_count": 173,
   "id": "indonesian-hometown",
   "metadata": {},
   "outputs": [],
   "source": [
    "list2=np.ones(num_row1, dtype = int)"
   ]
  },
  {
   "cell_type": "code",
   "execution_count": 174,
   "id": "adequate-dimension",
   "metadata": {},
   "outputs": [],
   "source": [
    "feat1.insert(loc=0, column='A', value=list2)"
   ]
  },
  {
   "cell_type": "code",
   "execution_count": 175,
   "id": "injured-elevation",
   "metadata": {},
   "outputs": [],
   "source": [
    "x_test=feat1.to_numpy()"
   ]
  },
  {
   "cell_type": "code",
   "execution_count": 176,
   "id": "outside-lotus",
   "metadata": {},
   "outputs": [],
   "source": [
    "x_test=Standardisation.fit_transform(x_test)"
   ]
  },
  {
   "cell_type": "code",
   "execution_count": 177,
   "id": "otherwise-observation",
   "metadata": {},
   "outputs": [],
   "source": [
    "ydata1=test_df[\"7\"]"
   ]
  },
  {
   "cell_type": "code",
   "execution_count": 178,
   "id": "accessible-citizen",
   "metadata": {},
   "outputs": [],
   "source": [
    "y_test=ydata1.to_numpy()\n",
    "y_test=y_test.astype('int') "
   ]
  },
  {
   "cell_type": "code",
   "execution_count": 179,
   "id": "little-tanzania",
   "metadata": {},
   "outputs": [],
   "source": [
    "y_test=y_test.reshape(1,num_row1)"
   ]
  },
  {
   "cell_type": "code",
   "execution_count": 30,
   "id": "elementary-tsunami",
   "metadata": {},
   "outputs": [],
   "source": [
    "class testing:\n",
    "    def __init__(self,num_row1,num_col1,x_test,theta1,theta2,theta3):\n",
    "        self.num_row1=num_row1\n",
    "        self.num_col1=num_col1\n",
    "        self.x_test=x_test\n",
    "        self.theta1=theta1\n",
    "        self.theta2=theta2\n",
    "        self.theta3=theta3\n",
    "        \n",
    "    def test(self,x):\n",
    "        self.X=x.reshape(1,self.num_col1)\n",
    "            \n",
    "        self.z1=np.dot(self.X,self.theta1)\n",
    "        self.a1=sigmoid(self.z1)\n",
    "        self.a11=np.insert(self.a1,0,1,axis = 1)\n",
    "        \n",
    "        self.z2=np.dot(self.a11,self.theta2)\n",
    "        self.a2=sigmoid(self.z2)\n",
    "        self.a21=np.insert(self.a2,0,1,axis = 1)\n",
    "        \n",
    "        self.z3=np.dot(self.a21,self.theta3)\n",
    "        self.a3=sigmoid(self.z3)\n",
    "        self.afp=self.a3[0]\n",
    "        self.af=self.afp.tolist()\n",
    "        self.maxi=max(self.af)\n",
    "        self.ind=self.af.index(self.maxi)\n",
    "        return self.ind\n",
    "    \n",
    "    def finaly(self):\n",
    "        y_pred=np.ones(10)\n",
    "        for i in range(0,10):\n",
    "            y_pred[i]=self.test(self.x_test[i])\n",
    "        return y_pred"
   ]
  },
  {
   "cell_type": "code",
   "execution_count": 896,
   "id": "strategic-operation",
   "metadata": {},
   "outputs": [],
   "source": [
    "y_final=testing(num_row1,num_col1,x_test,theta1,theta2,theta3).finaly()"
   ]
  },
  {
   "cell_type": "code",
   "execution_count": 897,
   "id": "sorted-toronto",
   "metadata": {},
   "outputs": [
    {
     "data": {
      "text/plain": [
       "array([1., 1., 1., 1., 1., 1., 1., 1., 1., 1.])"
      ]
     },
     "execution_count": 897,
     "metadata": {},
     "output_type": "execute_result"
    }
   ],
   "source": [
    "y_final"
   ]
  },
  {
   "cell_type": "code",
   "execution_count": 224,
   "id": "blessed-genre",
   "metadata": {},
   "outputs": [],
   "source": [
    "def test(x):\n",
    "    X=x.reshape(1,num_col1)\n",
    "            \n",
    "    z1=np.dot(X,theta1)\n",
    "    a1=sigmoid(z1)\n",
    "    a11=np.insert(a1,0,1,axis = 1)\n",
    "        \n",
    "    z2=(np.dot(a11,theta2))\n",
    "    a2=sigmoid(z2)\n",
    "    a21=np.insert(a2,0,1,axis = 1)\n",
    "\n",
    "    z3=(np.dot(a21,theta3))\n",
    "    a3=sigmoid(z3)\n",
    "    afp=a3[0]\n",
    "    af=afp.tolist()\n",
    "    maxi=max(af)\n",
    "    ind=af.index(maxi)\n",
    "    return "
   ]
  },
  {
   "cell_type": "code",
   "execution_count": 229,
   "id": "danish-minutes",
   "metadata": {},
   "outputs": [],
   "source": [
    "a=test(x_test[78])"
   ]
  },
  {
   "cell_type": "code",
   "execution_count": 230,
   "id": "eastern-extreme",
   "metadata": {},
   "outputs": [
    {
     "data": {
      "text/plain": [
       "3"
      ]
     },
     "execution_count": 230,
     "metadata": {},
     "output_type": "execute_result"
    }
   ],
   "source": [
    "a"
   ]
  },
  {
   "cell_type": "code",
   "execution_count": null,
   "id": "dense-phone",
   "metadata": {},
   "outputs": [],
   "source": []
  }
 ],
 "metadata": {
  "kernelspec": {
   "display_name": "Python 3",
   "language": "python",
   "name": "python3"
  },
  "language_info": {
   "codemirror_mode": {
    "name": "ipython",
    "version": 3
   },
   "file_extension": ".py",
   "mimetype": "text/x-python",
   "name": "python",
   "nbconvert_exporter": "python",
   "pygments_lexer": "ipython3",
   "version": "3.9.0"
  }
 },
 "nbformat": 4,
 "nbformat_minor": 5
}
