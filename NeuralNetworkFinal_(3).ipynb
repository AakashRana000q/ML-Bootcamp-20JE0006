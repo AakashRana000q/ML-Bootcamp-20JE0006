{
 "cells": [
  {
   "cell_type": "code",
   "execution_count": 1,
   "id": "fitting-ukraine",
   "metadata": {
    "id": "stuffed-denial"
   },
   "outputs": [],
   "source": [
    "import pandas as pd\n",
    "import numpy as np\n",
    "import math\n",
    "import matplotlib.pyplot as plt\n",
    "import random\n",
    "from sklearn import preprocessing\n",
    "from pandas import DataFrame"
   ]
  },
  {
   "cell_type": "code",
   "execution_count": 3,
   "id": "figured-macedonia",
   "metadata": {
    "id": "olympic-network"
   },
   "outputs": [],
   "source": [
    "train_df = pd.read_csv(\"C:/Users/Dell/Dropbox (Old)/My PC (DESKTOP-9I2HO18)/Downloads/mnist_train_small.csv\")"
   ]
  },
  {
   "cell_type": "markdown",
   "id": "coastal-visit",
   "metadata": {
    "id": "coated-triumph"
   },
   "source": [
    "Standardisation = preprocessing.StandardScaler()"
   ]
  },
  {
   "cell_type": "code",
   "execution_count": 4,
   "id": "conscious-jason",
   "metadata": {
    "id": "composite-diary"
   },
   "outputs": [],
   "source": [
    "def sigmoid(z):\n",
    "    return (1.0 / (1 + np.exp(-z)))"
   ]
  },
  {
   "cell_type": "code",
   "execution_count": 5,
   "id": "naval-tiger",
   "metadata": {
    "id": "mediterranean-distance"
   },
   "outputs": [],
   "source": [
    "def tanh(z):\n",
    "    t=(np.exp(z)-np.exp(-z))/(np.exp(z)+np.exp(-z))\n",
    "    return t"
   ]
  },
  {
   "cell_type": "code",
   "execution_count": 6,
   "id": "judicial-singer",
   "metadata": {
    "id": "sublime-municipality"
   },
   "outputs": [],
   "source": [
    "def dtanh(z):\n",
    "    t=(np.exp(z)-np.exp(-z))/(np.exp(z)+np.exp(-z))\n",
    "    dt=1-t**2\n",
    "    return dt"
   ]
  },
  {
   "cell_type": "code",
   "execution_count": 7,
   "id": "increasing-expansion",
   "metadata": {
    "id": "northern-latin"
   },
   "outputs": [],
   "source": [
    "def relu(z):\n",
    "    return np.maximum(z, 0)"
   ]
  },
  {
   "cell_type": "code",
   "execution_count": 8,
   "id": "associate-split",
   "metadata": {
    "id": "taken-sheffield"
   },
   "outputs": [],
   "source": [
    "def derir(z):\n",
    "    z[z<0] = 0\n",
    "    z[z>=0] = 1\n",
    "    return z\n"
   ]
  },
  {
   "cell_type": "code",
   "execution_count": 9,
   "id": "nearby-locator",
   "metadata": {
    "id": "earned-indian"
   },
   "outputs": [],
   "source": [
    "num_col=train_df.shape[1]-1"
   ]
  },
  {
   "cell_type": "code",
   "execution_count": 10,
   "id": "drawn-search",
   "metadata": {
    "id": "german-accreditation"
   },
   "outputs": [],
   "source": [
    "num_row=train_df.shape[0]"
   ]
  },
  {
   "cell_type": "code",
   "execution_count": 11,
   "id": "complex-spring",
   "metadata": {
    "id": "increasing-clearing"
   },
   "outputs": [],
   "source": [
    "x_train=train_df.drop([\"6\"],axis=1)"
   ]
  },
  {
   "cell_type": "code",
   "execution_count": 12,
   "id": "rotary-standard",
   "metadata": {
    "id": "prescribed-barcelona"
   },
   "outputs": [],
   "source": [
    "x_train=x_train.to_numpy()"
   ]
  },
  {
   "cell_type": "markdown",
   "id": "understood-canon",
   "metadata": {
    "id": "functioning-vaccine"
   },
   "source": [
    "x_train=Standardisation.fit_transform(x_train)"
   ]
  },
  {
   "cell_type": "code",
   "execution_count": 13,
   "id": "confirmed-madness",
   "metadata": {
    "id": "solar-reach"
   },
   "outputs": [],
   "source": [
    "x_train=x_train.reshape((num_col,num_row))"
   ]
  },
  {
   "cell_type": "code",
   "execution_count": 14,
   "id": "blessed-rating",
   "metadata": {
    "colab": {
     "base_uri": "https://localhost:8080/"
    },
    "id": "lyric-restoration",
    "outputId": "54e3314a-16ab-45d5-fcf0-384fb30495df"
   },
   "outputs": [
    {
     "data": {
      "text/plain": [
       "(784, 19999)"
      ]
     },
     "execution_count": 14,
     "metadata": {},
     "output_type": "execute_result"
    }
   ],
   "source": [
    "x_train.shape"
   ]
  },
  {
   "cell_type": "code",
   "execution_count": 15,
   "id": "measured-right",
   "metadata": {
    "id": "sudden-struggle"
   },
   "outputs": [],
   "source": [
    "y_train=train_df[\"6\"]"
   ]
  },
  {
   "cell_type": "code",
   "execution_count": 16,
   "id": "funded-retrieval",
   "metadata": {
    "id": "minimal-detection"
   },
   "outputs": [],
   "source": [
    "y_train=y_train.to_numpy()"
   ]
  },
  {
   "cell_type": "code",
   "execution_count": 17,
   "id": "recreational-beijing",
   "metadata": {
    "id": "extra-movement"
   },
   "outputs": [],
   "source": [
    "y_train=y_train.reshape(1,num_row)"
   ]
  },
  {
   "cell_type": "code",
   "execution_count": 18,
   "id": "incomplete-generation",
   "metadata": {
    "colab": {
     "base_uri": "https://localhost:8080/"
    },
    "id": "seven-drill",
    "outputId": "a17c0ecb-1f33-423c-f4b6-dc4ee9ce5b57"
   },
   "outputs": [
    {
     "data": {
      "text/plain": [
       "(1, 19999)"
      ]
     },
     "execution_count": 18,
     "metadata": {},
     "output_type": "execute_result"
    }
   ],
   "source": [
    "y_train.shape"
   ]
  },
  {
   "cell_type": "code",
   "execution_count": 19,
   "id": "extra-desperate",
   "metadata": {
    "colab": {
     "base_uri": "https://localhost:8080/"
    },
    "id": "absent-fundamental",
    "outputId": "643c64aa-fcf9-4e9f-e8ea-404295d6b0a5"
   },
   "outputs": [
    {
     "data": {
      "text/plain": [
       "array([[5, 7, 9, ..., 2, 9, 5]], dtype=int64)"
      ]
     },
     "execution_count": 19,
     "metadata": {},
     "output_type": "execute_result"
    }
   ],
   "source": [
    "y_train"
   ]
  },
  {
   "cell_type": "code",
   "execution_count": 20,
   "id": "damaged-identification",
   "metadata": {
    "id": "declared-valve"
   },
   "outputs": [],
   "source": [
    "y_com=np.zeros((10,num_row))"
   ]
  },
  {
   "cell_type": "code",
   "execution_count": 21,
   "id": "center-ceremony",
   "metadata": {
    "id": "incorporate-society"
   },
   "outputs": [],
   "source": [
    "for i in range(0,num_row):\n",
    "    o=y_train[0][i]\n",
    "    y_com[o][i]=1"
   ]
  },
  {
   "cell_type": "code",
   "execution_count": 22,
   "id": "coastal-bride",
   "metadata": {
    "id": "trained-philosophy"
   },
   "outputs": [],
   "source": [
    "class neural_network:\n",
    "    def __init__(self,x_train,y_com,no_of_iters,learn_rate,a,b):\n",
    "        self.x_train=x_train\n",
    "        self.y_com=y_com\n",
    "        #self.change=number\n",
    "        self.numrain=no_of_iters\n",
    "        self.rate=learn_rate\n",
    "        self.num_row=a\n",
    "        self.num_col=b\n",
    "    def training(self):\n",
    "        w1=(np.random.randn(2*self.num_col,self.num_col))*0.01\n",
    "        w2=(np.random.randn(2*self.num_col,2*self.num_col))*0.01\n",
    "        w3=(np.random.randn(10,2*self.num_col))*0.01\n",
    "        b1=np.random.randn(2*self.num_col,1)\n",
    "        b2=np.random.randn(2*self.num_col,1)\n",
    "        b3=np.random.randn(10,1)\n",
    "        \n",
    "        \n",
    "        for i in range(0,self.numrain):\n",
    "            w3t=np.transpose(w3)\n",
    "            w2t=np.transpose(w2)\n",
    "            \n",
    "            z1=(np.dot(w1,self.x_train))+b1\n",
    "            a1=relu(z1)\n",
    "            a1t=np.transpose(a1)\n",
    "         \n",
    "            \n",
    "            z2=(np.dot(w2,a1))+b2\n",
    "            a2=relu(z2)\n",
    "            a2t=np.transpose(a2)   \n",
    "            \n",
    "            z3=(np.dot(w3,a2))+b3\n",
    "            a3=sigmoid(z3)\n",
    "            \n",
    "            dz3=(a3-self.y_com)\n",
    "            dw3=(np.dot(dz3,a2t))/self.num_row\n",
    "            db3=(np.sum(dz3,axis=1,keepdims=True))/self.num_row\n",
    "            \n",
    "            dz2=(np.dot(w3t,dz3))*(derir(z2))\n",
    "            dw2=(np.dot(dz2,a1t))/self.num_row\n",
    "            db2=(np.sum(dz2,axis=1,keepdims=True))/self.num_row\n",
    "            \n",
    "            dz1=(np.dot(w2t,dz2))*(derir(z1))\n",
    "            dw1=(np.dot(dz1,np.transpose(self.x_train)))/self.num_row\n",
    "            db1=(np.sum(dz1,axis=1,keepdims=True))/self.num_row\n",
    "            \n",
    "            w3=w3-(self.rate*(dw3))\n",
    "            b3=b3-(self.rate*(db3))\n",
    "            w2=w2-(self.rate*(dw2))\n",
    "            b2=b2-(self.rate*(db2))\n",
    "            w1=w1-(self.rate*(dw1))\n",
    "            b1=b1-(self.rate*(db1))\n",
    "            cost=(1/2*self.num_row)*np.sum(np.square(a3-self.y_com))\n",
    "            plt.scatter(i,cost,c=\"red\")\n",
    "        w=[w1,w2,w3]\n",
    "        b=[b1,b2,b3]\n",
    "        return w,b\n",
    "            \n",
    "            \n",
    "            \n",
    "            "
   ]
  },
  {
   "cell_type": "code",
   "execution_count": 23,
   "id": "widespread-tooth",
   "metadata": {
    "colab": {
     "background_save": true
    },
    "id": "thermal-malawi"
   },
   "outputs": [
    {
     "data": {
      "image/png": "[encoded data removed]",
      "text/plain": [
       "<Figure size 432x288 with 1 Axes>"
      ]
     },
     "metadata": {
      "needs_background": "light"
     },
     "output_type": "display_data"
    }
   ],
   "source": [
    "w=neural_network(x_train,y_com,300,0.00001,num_row,num_col).training() "
   ]
  },
  {
   "cell_type": "code",
   "execution_count": 24,
   "id": "narrow-necessity",
   "metadata": {
    "id": "lonely-lobby"
   },
   "outputs": [],
   "source": [
    "w1=w[0][0]"
   ]
  },
  {
   "cell_type": "code",
   "execution_count": 25,
   "id": "final-cartoon",
   "metadata": {
    "id": "handled-region"
   },
   "outputs": [],
   "source": [
    "w2=w[0][1]"
   ]
  },
  {
   "cell_type": "code",
   "execution_count": 26,
   "id": "cathedral-builder",
   "metadata": {
    "id": "absolute-limitation"
   },
   "outputs": [],
   "source": [
    "w3=w[0][2]"
   ]
  },
  {
   "cell_type": "code",
   "execution_count": 27,
   "id": "frozen-appendix",
   "metadata": {
    "id": "alone-showcase"
   },
   "outputs": [],
   "source": [
    "b1=w[1][0]"
   ]
  },
  {
   "cell_type": "code",
   "execution_count": 28,
   "id": "sought-presence",
   "metadata": {
    "id": "interesting-attention"
   },
   "outputs": [],
   "source": [
    "b2=w[1][1]"
   ]
  },
  {
   "cell_type": "code",
   "execution_count": 29,
   "id": "comparative-darwin",
   "metadata": {
    "id": "lucky-tournament"
   },
   "outputs": [],
   "source": [
    "b3=w[1][2]"
   ]
  },
  {
   "cell_type": "code",
   "execution_count": 32,
   "id": "random-edinburgh",
   "metadata": {
    "id": "lined-review"
   },
   "outputs": [],
   "source": [
    "test_df = pd.read_csv(\"C:/Users/Dell/Dropbox (Old)/My PC (DESKTOP-9I2HO18)/Downloads/mnist_test.csv\")"
   ]
  },
  {
   "cell_type": "code",
   "execution_count": 33,
   "id": "characteristic-faith",
   "metadata": {
    "id": "weighted-viewer"
   },
   "outputs": [],
   "source": [
    "num_col1=test_df.shape[1]-1"
   ]
  },
  {
   "cell_type": "code",
   "execution_count": 34,
   "id": "obvious-canada",
   "metadata": {
    "id": "danish-tuning"
   },
   "outputs": [],
   "source": [
    "num_row1=test_df.shape[0]"
   ]
  },
  {
   "cell_type": "code",
   "execution_count": 35,
   "id": "comfortable-recorder",
   "metadata": {
    "id": "rolled-spectrum"
   },
   "outputs": [],
   "source": [
    "feat1=test_df.drop([\"7\"],axis=1) "
   ]
  },
  {
   "cell_type": "code",
   "execution_count": 36,
   "id": "impressed-belarus",
   "metadata": {
    "id": "tribal-experience"
   },
   "outputs": [],
   "source": [
    "x_test=feat1.to_numpy()"
   ]
  },
  {
   "cell_type": "markdown",
   "id": "comparative-american",
   "metadata": {
    "id": "identified-passion"
   },
   "source": [
    "x_test=Standardisation.fit_transform(x_test)"
   ]
  },
  {
   "cell_type": "code",
   "execution_count": 37,
   "id": "falling-prophet",
   "metadata": {
    "id": "civilian-kansas"
   },
   "outputs": [],
   "source": [
    "x_test=x_test.reshape(784,9999)"
   ]
  },
  {
   "cell_type": "code",
   "execution_count": 38,
   "id": "enclosed-banking",
   "metadata": {
    "id": "bibliographic-street"
   },
   "outputs": [],
   "source": [
    "ydata1=test_df[\"7\"]"
   ]
  },
  {
   "cell_type": "code",
   "execution_count": 39,
   "id": "vital-values",
   "metadata": {
    "id": "brief-fifteen"
   },
   "outputs": [],
   "source": [
    "y_test=ydata1.to_numpy()\n",
    "y_test=y_test.astype('int') "
   ]
  },
  {
   "cell_type": "code",
   "execution_count": 40,
   "id": "ignored-catering",
   "metadata": {
    "id": "specialized-alpha"
   },
   "outputs": [],
   "source": [
    "y_test=y_test.reshape(1,num_row1)"
   ]
  },
  {
   "cell_type": "code",
   "execution_count": 41,
   "id": "combined-tumor",
   "metadata": {
    "id": "indoor-coffee"
   },
   "outputs": [],
   "source": [
    "def predict():\n",
    "            \n",
    "    z1=(np.dot(w1,x_test))+b1\n",
    "    a1=relu(z1)\n",
    "    a1t=np.transpose(a1)\n",
    "         \n",
    "    z2=(np.dot(w2,a1))+b2\n",
    "    a2=relu(z2)\n",
    "    a2t=np.transpose(a2)   \n",
    "            \n",
    "    z3=(np.dot(w3,a2))+b3\n",
    "    a3=sigmoid(z3)\n",
    "    \n",
    "    return a3\n",
    "            \n",
    "    "
   ]
  },
  {
   "cell_type": "code",
   "execution_count": 42,
   "id": "indie-favor",
   "metadata": {
    "id": "numerical-alert",
    "outputId": "35125717-51f0-4e99-a302-b3fc133481b5"
   },
   "outputs": [
    {
     "data": {
      "text/plain": [
       "array([[0.13316615, 0.14225514, 0.08157963, ..., 0.03268231, 0.13534981,\n",
       "        0.11199177],\n",
       "       [0.06180004, 0.31150404, 0.25546045, ..., 0.50679208, 0.30082322,\n",
       "        0.13013552],\n",
       "       [0.08535319, 0.08730212, 0.10115982, ..., 0.01022162, 0.00228799,\n",
       "        0.0035988 ],\n",
       "       ...,\n",
       "       [0.61343124, 0.44474329, 0.22551226, ..., 0.32205895, 0.78136398,\n",
       "        0.37412496],\n",
       "       [0.15348469, 0.22353832, 0.0504236 , ..., 0.49649277, 0.25020312,\n",
       "        0.22905846],\n",
       "       [0.02834733, 0.03481607, 0.03679707, ..., 0.01062569, 0.01064951,\n",
       "        0.01514219]])"
      ]
     },
     "execution_count": 42,
     "metadata": {},
     "output_type": "execute_result"
    }
   ],
   "source": [
    "a3=predict()\n",
    "a3             "
   ]
  },
  {
   "cell_type": "code",
   "execution_count": 43,
   "id": "southeast-december",
   "metadata": {
    "id": "statewide-ghana"
   },
   "outputs": [],
   "source": [
    "y_ans=a3.argmax(axis=0)\n",
    "y_ans=y_ans.reshape(1,num_row1)\n"
   ]
  },
  {
   "cell_type": "code",
   "execution_count": 44,
   "id": "vulnerable-immigration",
   "metadata": {
    "id": "statewide-necessity",
    "outputId": "67e2968c-c071-4887-c554-dfb51d10ca8b"
   },
   "outputs": [
    {
     "data": {
      "text/plain": [
       "array([[7, 7, 6, ..., 1, 7, 7]], dtype=int64)"
      ]
     },
     "execution_count": 44,
     "metadata": {},
     "output_type": "execute_result"
    }
   ],
   "source": [
    "y_ans"
   ]
  },
  {
   "cell_type": "code",
   "execution_count": 45,
   "id": "oriental-camping",
   "metadata": {
    "id": "minute-handbook",
    "outputId": "cdd1cbb6-baa5-4e6c-ecf1-4880e9df90c8"
   },
   "outputs": [
    {
     "data": {
      "text/plain": [
       "(1, 9999)"
      ]
     },
     "execution_count": 45,
     "metadata": {},
     "output_type": "execute_result"
    }
   ],
   "source": [
    "y_ans.shape"
   ]
  },
  {
   "cell_type": "code",
   "execution_count": 46,
   "id": "extensive-indonesia",
   "metadata": {
    "id": "thirty-american",
    "outputId": "983629c5-8892-4ced-cd5b-51492d94ff4e"
   },
   "outputs": [
    {
     "data": {
      "text/plain": [
       "(1, 9999)"
      ]
     },
     "execution_count": 46,
     "metadata": {},
     "output_type": "execute_result"
    }
   ],
   "source": [
    "y_test.shape"
   ]
  },
  {
   "cell_type": "code",
   "execution_count": 47,
   "id": "elect-textbook",
   "metadata": {
    "id": "annoying-begin"
   },
   "outputs": [],
   "source": [
    "count=0\n",
    "for i in range(0,num_row1):\n",
    "    if y_test[0][i]==y_ans[0][i]:\n",
    "        count+=1"
   ]
  },
  {
   "cell_type": "code",
   "execution_count": 48,
   "id": "difficult-haiti",
   "metadata": {
    "id": "economic-prize",
    "outputId": "5e07d12f-e286-47f1-99ce-5d8b7cc417a4"
   },
   "outputs": [
    {
     "data": {
      "text/plain": [
       "10.34103410341034"
      ]
     },
     "execution_count": 48,
     "metadata": {},
     "output_type": "execute_result"
    }
   ],
   "source": [
    "accuracy=((count/num_row1)*100)\n",
    "accuracy"
   ]
  },
  {
   "cell_type": "code",
   "execution_count": null,
   "id": "chubby-trade",
   "metadata": {
    "id": "legal-constitution"
   },
   "outputs": [],
   "source": []
  }
 ],
 "metadata": {
  "accelerator": "GPU",
  "colab": {
   "collapsed_sections": [],
   "name": "NeuralNetworkFinal (3).ipynb",
   "provenance": []
  },
  "kernelspec": {
   "display_name": "Python 3",
   "language": "python",
   "name": "python3"
  },
  "language_info": {
   "codemirror_mode": {
    "name": "ipython",
    "version": 3
   },
   "file_extension": ".py",
   "mimetype": "text/x-python",
   "name": "python",
   "nbconvert_exporter": "python",
   "pygments_lexer": "ipython3",
   "version": "3.9.0"
  }
 },
 "nbformat": 4,
 "nbformat_minor": 5
}
