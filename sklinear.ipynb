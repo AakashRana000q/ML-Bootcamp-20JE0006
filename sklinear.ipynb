{
 "cells": [
  {
   "cell_type": "code",
   "execution_count": 3,
   "id": "applied-robinson",
   "metadata": {},
   "outputs": [],
   "source": [
    "import numpy as np\n",
    "import pandas as pd\n",
    "import matplotlib.pyplot as plt\n",
    "from sklearn import preprocessing, svm\n",
    "from sklearn.linear_model import LinearRegression"
   ]
  },
  {
   "cell_type": "code",
   "execution_count": 4,
   "id": "rolled-replica",
   "metadata": {},
   "outputs": [],
   "source": [
    "train_df = pd.read_csv(\"C:/Users/Dell/Dropbox (Old)/My PC (DESKTOP-9I2HO18)/Downloads/mnist_train_small.csv\")"
   ]
  },
  {
   "cell_type": "code",
   "execution_count": 5,
   "id": "minimal-spring",
   "metadata": {},
   "outputs": [],
   "source": [
    "x_train=train_df.drop([\"6\"],axis=1)\n",
    "x_train=x_train.to_numpy()"
   ]
  },
  {
   "cell_type": "code",
   "execution_count": 6,
   "id": "silent-mills",
   "metadata": {},
   "outputs": [],
   "source": [
    "y_train=train_df[\"6\"]\n",
    "y_train=y_train.to_numpy()"
   ]
  },
  {
   "cell_type": "code",
   "execution_count": 7,
   "id": "acceptable-conditions",
   "metadata": {},
   "outputs": [
    {
     "data": {
      "text/plain": [
       "(19999,)"
      ]
     },
     "execution_count": 7,
     "metadata": {},
     "output_type": "execute_result"
    }
   ],
   "source": [
    "y_train.shape"
   ]
  },
  {
   "cell_type": "code",
   "execution_count": 8,
   "id": "focal-measurement",
   "metadata": {},
   "outputs": [
    {
     "data": {
      "text/plain": [
       "(19999, 784)"
      ]
     },
     "execution_count": 8,
     "metadata": {},
     "output_type": "execute_result"
    }
   ],
   "source": [
    "x_train.shape"
   ]
  },
  {
   "cell_type": "code",
   "execution_count": 9,
   "id": "ceramic-bradford",
   "metadata": {},
   "outputs": [],
   "source": [
    "regr = LinearRegression()"
   ]
  },
  {
   "cell_type": "code",
   "execution_count": 10,
   "id": "recreational-burst",
   "metadata": {},
   "outputs": [
    {
     "data": {
      "text/plain": [
       "LinearRegression()"
      ]
     },
     "execution_count": 10,
     "metadata": {},
     "output_type": "execute_result"
    }
   ],
   "source": [
    "regr.fit(x_train, y_train)"
   ]
  },
  {
   "cell_type": "code",
   "execution_count": 11,
   "id": "arctic-killing",
   "metadata": {},
   "outputs": [],
   "source": [
    "test_df = pd.read_csv(\"C:/Users/Dell/Dropbox (Old)/My PC (DESKTOP-9I2HO18)/Downloads/mnist_test.csv\")"
   ]
  },
  {
   "cell_type": "code",
   "execution_count": 12,
   "id": "special-newton",
   "metadata": {},
   "outputs": [],
   "source": [
    "feat1=test_df.drop([\"7\"],axis=1) \n",
    "x_test=feat1.to_numpy()"
   ]
  },
  {
   "cell_type": "code",
   "execution_count": 13,
   "id": "restricted-drink",
   "metadata": {},
   "outputs": [],
   "source": [
    "ydata1=test_df[\"7\"]\n",
    "y_test=ydata1.to_numpy()"
   ]
  },
  {
   "cell_type": "code",
   "execution_count": 25,
   "id": "endless-intention",
   "metadata": {},
   "outputs": [
    {
     "data": {
      "text/plain": [
       "array([2, 1, 0, ..., 4, 5, 6], dtype=int64)"
      ]
     },
     "execution_count": 25,
     "metadata": {},
     "output_type": "execute_result"
    }
   ],
   "source": [
    "y_test"
   ]
  },
  {
   "cell_type": "code",
   "execution_count": 28,
   "id": "synthetic-injection",
   "metadata": {},
   "outputs": [],
   "source": [
    "y_pred = regr.predict(x_test)"
   ]
  },
  {
   "cell_type": "code",
   "execution_count": 29,
   "id": "missing-compilation",
   "metadata": {},
   "outputs": [],
   "source": [
    "y_pred=y_pred.round()"
   ]
  },
  {
   "cell_type": "code",
   "execution_count": 30,
   "id": "twelve-science",
   "metadata": {},
   "outputs": [],
   "source": [
    "y_pred=y_pred.astype(\"int\")"
   ]
  },
  {
   "cell_type": "code",
   "execution_count": 31,
   "id": "willing-messenger",
   "metadata": {},
   "outputs": [
    {
     "data": {
      "text/plain": [
       "array([3, 2, 1, ..., 8, 6, 6])"
      ]
     },
     "execution_count": 31,
     "metadata": {},
     "output_type": "execute_result"
    }
   ],
   "source": [
    "y_pred"
   ]
  },
  {
   "cell_type": "code",
   "execution_count": 34,
   "id": "spiritual-simpson",
   "metadata": {},
   "outputs": [],
   "source": [
    "count=0\n",
    "for i in range(0,9999):\n",
    "    if y_test[i]==y_pred[i]:\n",
    "        count+=1"
   ]
  },
  {
   "cell_type": "code",
   "execution_count": 35,
   "id": "about-hotel",
   "metadata": {},
   "outputs": [
    {
     "data": {
      "text/plain": [
       "21.98219821982198"
      ]
     },
     "execution_count": 35,
     "metadata": {},
     "output_type": "execute_result"
    }
   ],
   "source": [
    "accuracy=((count/9999)*100)\n",
    "accuracy"
   ]
  },
  {
   "cell_type": "code",
   "execution_count": null,
   "id": "classical-despite",
   "metadata": {},
   "outputs": [],
   "source": []
  }
 ],
 "metadata": {
  "kernelspec": {
   "display_name": "Python 3",
   "language": "python",
   "name": "python3"
  },
  "language_info": {
   "codemirror_mode": {
    "name": "ipython",
    "version": 3
   },
   "file_extension": ".py",
   "mimetype": "text/x-python",
   "name": "python",
   "nbconvert_exporter": "python",
   "pygments_lexer": "ipython3",
   "version": "3.9.0"
  }
 },
 "nbformat": 4,
 "nbformat_minor": 5
}
