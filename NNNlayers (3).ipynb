{
 "cells": [
  {
   "cell_type": "code",
   "execution_count": 590,
   "id": "blind-river",
   "metadata": {},
   "outputs": [],
   "source": [
    "import pandas as pd\n",
    "import numpy as np\n",
    "import math\n",
    "import matplotlib.pyplot as plt\n",
    "import random\n",
    "from sklearn import preprocessing\n",
    "from pandas import DataFrame"
   ]
  },
  {
   "cell_type": "code",
   "execution_count": 591,
   "id": "wicked-mistake",
   "metadata": {},
   "outputs": [],
   "source": [
    "train_df = pd.read_csv(\"C:/Users/Dell/Dropbox (Old)/My PC (DESKTOP-9I2HO18)/Downloads/mnist_train_small.csv\")"
   ]
  },
  {
   "cell_type": "code",
   "execution_count": 592,
   "id": "eastern-county",
   "metadata": {},
   "outputs": [],
   "source": [
    "def softmax(x):\n",
    "    return np.exp(x) / np.sum(np.exp(x), axis=0)"
   ]
  },
  {
   "cell_type": "code",
   "execution_count": 593,
   "id": "occupational-feelings",
   "metadata": {},
   "outputs": [],
   "source": [
    "def sigmoid(z):\n",
    "    return (1.0 / (1 + np.exp(-z)))"
   ]
  },
  {
   "cell_type": "code",
   "execution_count": 594,
   "id": "static-found",
   "metadata": {},
   "outputs": [],
   "source": [
    "def relu(z):\n",
    "    return np.maximum(z, 0)"
   ]
  },
  {
   "cell_type": "code",
   "execution_count": 595,
   "id": "devoted-mailman",
   "metadata": {},
   "outputs": [],
   "source": [
    "def derir(z):\n",
    "    z[z<0] = 0\n",
    "    z[z>=0] = 1\n",
    "    return z"
   ]
  },
  {
   "cell_type": "code",
   "execution_count": 596,
   "id": "closed-authentication",
   "metadata": {},
   "outputs": [],
   "source": [
    "num_col=train_df.shape[1]-1"
   ]
  },
  {
   "cell_type": "code",
   "execution_count": 597,
   "id": "extra-resident",
   "metadata": {},
   "outputs": [],
   "source": [
    "num_row=train_df.shape[0]"
   ]
  },
  {
   "cell_type": "code",
   "execution_count": 598,
   "id": "expanded-missouri",
   "metadata": {},
   "outputs": [],
   "source": [
    "x_train=train_df.drop([\"6\"],axis=1)"
   ]
  },
  {
   "cell_type": "code",
   "execution_count": 599,
   "id": "appreciated-possible",
   "metadata": {},
   "outputs": [],
   "source": [
    "x_train=x_train.to_numpy()"
   ]
  },
  {
   "cell_type": "code",
   "execution_count": 600,
   "id": "ranking-arbitration",
   "metadata": {},
   "outputs": [],
   "source": [
    "x_train=x_train.reshape((num_col,num_row))"
   ]
  },
  {
   "cell_type": "code",
   "execution_count": 601,
   "id": "driven-grade",
   "metadata": {},
   "outputs": [],
   "source": [
    "y_train=train_df[\"6\"]"
   ]
  },
  {
   "cell_type": "code",
   "execution_count": 602,
   "id": "increasing-trunk",
   "metadata": {},
   "outputs": [],
   "source": [
    "y_train=y_train.to_numpy()"
   ]
  },
  {
   "cell_type": "code",
   "execution_count": 603,
   "id": "pleasant-infrared",
   "metadata": {},
   "outputs": [],
   "source": [
    "y_train=y_train.reshape(1,num_row)"
   ]
  },
  {
   "cell_type": "code",
   "execution_count": 604,
   "id": "offshore-vintage",
   "metadata": {},
   "outputs": [],
   "source": [
    "y_com=np.zeros((10,num_row))"
   ]
  },
  {
   "cell_type": "code",
   "execution_count": 605,
   "id": "occasional-baking",
   "metadata": {},
   "outputs": [],
   "source": [
    "for i in range(0,num_row):\n",
    "    o=y_train[0][i]\n",
    "    y_com[o][i]=1"
   ]
  },
  {
   "cell_type": "code",
   "execution_count": 606,
   "id": "welsh-suggestion",
   "metadata": {},
   "outputs": [
    {
     "name": "stdin",
     "output_type": "stream",
     "text": [
      "no of layers 11\n"
     ]
    }
   ],
   "source": [
    "l=int(input(\"no of layers\"))"
   ]
  },
  {
   "cell_type": "code",
   "execution_count": 607,
   "id": "still-enterprise",
   "metadata": {},
   "outputs": [],
   "source": [
    "a=[None]*(l+1)"
   ]
  },
  {
   "cell_type": "code",
   "execution_count": 608,
   "id": "numerous-purchase",
   "metadata": {},
   "outputs": [],
   "source": [
    "z=[None]*(l+1)"
   ]
  },
  {
   "cell_type": "code",
   "execution_count": 609,
   "id": "common-least",
   "metadata": {},
   "outputs": [],
   "source": [
    "dz=[None]*(l+1)"
   ]
  },
  {
   "cell_type": "code",
   "execution_count": 610,
   "id": "substantial-conversation",
   "metadata": {},
   "outputs": [],
   "source": [
    "dw=[None]*(l+1)"
   ]
  },
  {
   "cell_type": "code",
   "execution_count": 611,
   "id": "portable-documentation",
   "metadata": {},
   "outputs": [],
   "source": [
    "db=[None]*(l+1)"
   ]
  },
  {
   "cell_type": "code",
   "execution_count": 612,
   "id": "separate-hostel",
   "metadata": {},
   "outputs": [],
   "source": [
    "w=[None]*(l+1)"
   ]
  },
  {
   "cell_type": "code",
   "execution_count": 613,
   "id": "violent-grant",
   "metadata": {},
   "outputs": [],
   "source": [
    "b=[None]*(l+1)"
   ]
  },
  {
   "cell_type": "code",
   "execution_count": 614,
   "id": "automated-layer",
   "metadata": {},
   "outputs": [
    {
     "name": "stdin",
     "output_type": "stream",
     "text": [
      "number of nodes 1100\n"
     ]
    }
   ],
   "source": [
    "n=int(input(\"number of nodes\"))"
   ]
  },
  {
   "cell_type": "code",
   "execution_count": 615,
   "id": "stainless-clone",
   "metadata": {},
   "outputs": [],
   "source": [
    "w[1]=(np.random.randn(n,num_col))*0.01"
   ]
  },
  {
   "cell_type": "code",
   "execution_count": 616,
   "id": "impressed-edgar",
   "metadata": {},
   "outputs": [],
   "source": [
    "for i in range(2,l):\n",
    "    w[i]=(np.random.randn(n,n))*0.01"
   ]
  },
  {
   "cell_type": "code",
   "execution_count": 617,
   "id": "intermediate-prototype",
   "metadata": {},
   "outputs": [],
   "source": [
    "w[l]=(np.random.randn(10,n))*0.01"
   ]
  },
  {
   "cell_type": "code",
   "execution_count": 618,
   "id": "sharp-average",
   "metadata": {},
   "outputs": [],
   "source": [
    "for j in range(1,l):\n",
    "    b[j]=(np.random.randn(n,1))"
   ]
  },
  {
   "cell_type": "code",
   "execution_count": 619,
   "id": "continental-plenty",
   "metadata": {},
   "outputs": [],
   "source": [
    "b[l]=(np.random.randn(10,1))"
   ]
  },
  {
   "cell_type": "code",
   "execution_count": 620,
   "id": "clean-morning",
   "metadata": {},
   "outputs": [
    {
     "name": "stdin",
     "output_type": "stream",
     "text": [
      "learn rate 0.1\n"
     ]
    }
   ],
   "source": [
    "rate=float(input(\"learn rate\"))"
   ]
  },
  {
   "cell_type": "code",
   "execution_count": 621,
   "id": "balanced-artist",
   "metadata": {},
   "outputs": [
    {
     "data": {
      "text/plain": [
       "0.1"
      ]
     },
     "execution_count": 621,
     "metadata": {},
     "output_type": "execute_result"
    }
   ],
   "source": [
    "rate"
   ]
  },
  {
   "cell_type": "code",
   "execution_count": 622,
   "id": "interested-phoenix",
   "metadata": {},
   "outputs": [
    {
     "name": "stdin",
     "output_type": "stream",
     "text": [
      "number of iterations 100\n"
     ]
    }
   ],
   "source": [
    "numrain=int(input(\"number of iterations\"))"
   ]
  },
  {
   "cell_type": "code",
   "execution_count": null,
   "id": "cross-expansion",
   "metadata": {},
   "outputs": [],
   "source": [
    "for k in range(0,numrain):\n",
    "    z[1]=(np.dot(w[1],x_train))+b[1]\n",
    "    a[1]=relu(z[1])\n",
    "    for p in range(2,l):\n",
    "        z[p]=(np.dot(w[p],a[p-1])+b[p])\n",
    "        a[p]=relu(z[p])\n",
    "    z[l]=(np.dot(w[l],a[l-1]))+b[l]\n",
    "    a[l]=softmax(z[l])\n",
    "            \n",
    "    dz[l]=(a[l]-y_com)\n",
    "            \n",
    "    for q in range(l,1,-1):\n",
    "        dz[q-1]=(np.dot(np.transpose(w[q]),dz[q]))*(derir(z[q-1]))\n",
    "        dw[q]=(np.dot(dz[q],np.transpose(a[q-1])))/num_row\n",
    "        db[q]=(np.sum(dz[q],axis=1,keepdims=True))/num_row\n",
    "            \n",
    "    dz[1]=(np.dot(np.transpose(w[2]),dz[2]))*(derir(z[1]))\n",
    "    dw[1]=(np.dot(dz[1],np.transpose(x_train)))/num_row\n",
    "    db[1]=(np.sum(dz[1],axis=1,keepdims=True))/num_row\n",
    "            \n",
    "    for r in range(1,l+1):\n",
    "        w[r]=w[r]-(rate*(dw[r]))\n",
    "    for s in range(1,l+1):\n",
    "        b[s]=b[s]-(rate*(db[s]))"
   ]
  },
  {
   "cell_type": "code",
   "execution_count": 540,
   "id": "successful-trading",
   "metadata": {},
   "outputs": [],
   "source": [
    "test_df = pd.read_csv(\"C:/Users/Dell/Dropbox (Old)/My PC (DESKTOP-9I2HO18)/Downloads/mnist_test.csv\")"
   ]
  },
  {
   "cell_type": "code",
   "execution_count": 541,
   "id": "western-passing",
   "metadata": {},
   "outputs": [],
   "source": [
    "num_col1=test_df.shape[1]-1"
   ]
  },
  {
   "cell_type": "code",
   "execution_count": 542,
   "id": "developmental-checklist",
   "metadata": {},
   "outputs": [],
   "source": [
    "num_row1=test_df.shape[0]"
   ]
  },
  {
   "cell_type": "code",
   "execution_count": 543,
   "id": "meaning-links",
   "metadata": {},
   "outputs": [],
   "source": [
    "feat1=test_df.drop([\"7\"],axis=1) "
   ]
  },
  {
   "cell_type": "code",
   "execution_count": 544,
   "id": "induced-potato",
   "metadata": {},
   "outputs": [],
   "source": [
    "x_test=feat1.to_numpy()"
   ]
  },
  {
   "cell_type": "code",
   "execution_count": 545,
   "id": "social-submission",
   "metadata": {},
   "outputs": [],
   "source": [
    "x_test=x_test.reshape(784,9999)"
   ]
  },
  {
   "cell_type": "code",
   "execution_count": 546,
   "id": "aging-bikini",
   "metadata": {},
   "outputs": [],
   "source": [
    "ydata1=test_df[\"7\"]"
   ]
  },
  {
   "cell_type": "code",
   "execution_count": 547,
   "id": "handy-details",
   "metadata": {},
   "outputs": [],
   "source": [
    "y_test=ydata1.to_numpy()\n",
    "y_test=y_test.astype('int') \n"
   ]
  },
  {
   "cell_type": "code",
   "execution_count": 548,
   "id": "paperback-leave",
   "metadata": {},
   "outputs": [],
   "source": [
    "y_test=y_test.reshape(1,num_row1)"
   ]
  },
  {
   "cell_type": "code",
   "execution_count": 549,
   "id": "accredited-italy",
   "metadata": {},
   "outputs": [],
   "source": [
    "def predict():\n",
    "    z[1]=(np.dot(w[1],x_test))+b[1]\n",
    "    a[1]=relu(z[1])\n",
    "    for p in range(2,l):\n",
    "        z[p]=(np.dot(w[p],a[p-1]))+b[p]\n",
    "        a[p]=relu(z[p])\n",
    "    z[l]=(np.dot(w[l],a[l-1]))+b[l]\n",
    "    a[l]=sigmoid(z[l])\n",
    "    return a[l]"
   ]
  },
  {
   "cell_type": "code",
   "execution_count": 550,
   "id": "african-antarctica",
   "metadata": {},
   "outputs": [
    {
     "data": {
      "text/plain": [
       "array([[0.44079804, 0.44079804, 0.44079804, ..., 0.44079804, 0.44079804,\n",
       "        0.44079804],\n",
       "       [0.47396875, 0.47396875, 0.47396875, ..., 0.47396875, 0.47396875,\n",
       "        0.47396875],\n",
       "       [0.44415386, 0.44415386, 0.44415386, ..., 0.44415386, 0.44415386,\n",
       "        0.44415386],\n",
       "       ...,\n",
       "       [0.46064522, 0.46064522, 0.46064522, ..., 0.46064522, 0.46064522,\n",
       "        0.46064522],\n",
       "       [0.43445695, 0.43445695, 0.43445695, ..., 0.43445695, 0.43445695,\n",
       "        0.43445695],\n",
       "       [0.44834165, 0.44834165, 0.44834165, ..., 0.44834165, 0.44834165,\n",
       "        0.44834165]])"
      ]
     },
     "execution_count": 550,
     "metadata": {},
     "output_type": "execute_result"
    }
   ],
   "source": [
    "a[l]=predict()\n",
    "a[l]   "
   ]
  },
  {
   "cell_type": "code",
   "execution_count": 551,
   "id": "informational-powder",
   "metadata": {},
   "outputs": [],
   "source": [
    "y_ans=a[l].argmax(axis=0)\n",
    "y_ans=y_ans.reshape(1,num_row1)\n"
   ]
  },
  {
   "cell_type": "code",
   "execution_count": 555,
   "id": "dangerous-seventh",
   "metadata": {},
   "outputs": [
    {
     "data": {
      "text/plain": [
       "array([[1, 1, 1, ..., 1, 1, 1]], dtype=int64)"
      ]
     },
     "execution_count": 555,
     "metadata": {},
     "output_type": "execute_result"
    }
   ],
   "source": [
    "y_ans"
   ]
  },
  {
   "cell_type": "code",
   "execution_count": 504,
   "id": "joint-atlantic",
   "metadata": {},
   "outputs": [],
   "source": [
    "count=0\n",
    "for i in range(0,num_row1):\n",
    "    if y_test[0][i]==y_ans[0][i]:\n",
    "        count+=1"
   ]
  },
  {
   "cell_type": "code",
   "execution_count": 505,
   "id": "mysterious-astrology",
   "metadata": {},
   "outputs": [
    {
     "data": {
      "text/plain": [
       "11.35113511351135"
      ]
     },
     "execution_count": 505,
     "metadata": {},
     "output_type": "execute_result"
    }
   ],
   "source": [
    "accuracy=((count/num_row1)*100)\n",
    "accuracy"
   ]
  }
 ],
 "metadata": {
  "kernelspec": {
   "display_name": "Python 3",
   "language": "python",
   "name": "python3"
  },
  "language_info": {
   "codemirror_mode": {
    "name": "ipython",
    "version": 3
   },
   "file_extension": ".py",
   "mimetype": "text/x-python",
   "name": "python",
   "nbconvert_exporter": "python",
   "pygments_lexer": "ipython3",
   "version": "3.9.0"
  }
 },
 "nbformat": 4,
 "nbformat_minor": 5
}
