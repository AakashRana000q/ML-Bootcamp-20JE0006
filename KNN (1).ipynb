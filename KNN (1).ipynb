{
 "cells": [
  {
   "cell_type": "code",
   "execution_count": 47,
   "id": "connected-irish",
   "metadata": {},
   "outputs": [],
   "source": [
    "import pandas as pd\n",
    "import numpy as np\n",
    "import math\n",
    "import matplotlib.pyplot as plt\n",
    "import statistics\n",
    "from scipy import stats\n",
    "from pandas import DataFrame"
   ]
  },
  {
   "cell_type": "code",
   "execution_count": 48,
   "id": "classified-conditioning",
   "metadata": {},
   "outputs": [],
   "source": [
    "train_df = pd.read_csv(\"C:/Users/Dell/Dropbox (Old)/My PC (DESKTOP-9I2HO18)/Downloads/mnist_train_small.csv\")"
   ]
  },
  {
   "cell_type": "code",
   "execution_count": 49,
   "id": "novel-renewal",
   "metadata": {},
   "outputs": [],
   "source": [
    "def euclid_distance(x,y):\n",
    "    return np.sqrt(np.sum(np.square(x-y)))"
   ]
  },
  {
   "cell_type": "code",
   "execution_count": 50,
   "id": "significant-banks",
   "metadata": {},
   "outputs": [],
   "source": [
    "x_train=train_df.drop([\"6\"],axis=1)"
   ]
  },
  {
   "cell_type": "code",
   "execution_count": 51,
   "id": "lasting-miami",
   "metadata": {},
   "outputs": [],
   "source": [
    "x_train=x_train.to_numpy()"
   ]
  },
  {
   "cell_type": "code",
   "execution_count": 52,
   "id": "creative-authority",
   "metadata": {},
   "outputs": [
    {
     "data": {
      "text/plain": [
       "(19999, 784)"
      ]
     },
     "execution_count": 52,
     "metadata": {},
     "output_type": "execute_result"
    }
   ],
   "source": [
    "x_train.shape"
   ]
  },
  {
   "cell_type": "code",
   "execution_count": 53,
   "id": "entertaining-nutrition",
   "metadata": {},
   "outputs": [],
   "source": [
    "y_train=train_df[\"6\"]"
   ]
  },
  {
   "cell_type": "code",
   "execution_count": 54,
   "id": "banner-drunk",
   "metadata": {},
   "outputs": [],
   "source": [
    "y_train=y_train.to_numpy()"
   ]
  },
  {
   "cell_type": "code",
   "execution_count": 55,
   "id": "twelve-identification",
   "metadata": {},
   "outputs": [
    {
     "data": {
      "text/plain": [
       "(19999,)"
      ]
     },
     "execution_count": 55,
     "metadata": {},
     "output_type": "execute_result"
    }
   ],
   "source": [
    "y_train.shape"
   ]
  },
  {
   "cell_type": "code",
   "execution_count": 56,
   "id": "rolled-window",
   "metadata": {},
   "outputs": [],
   "source": [
    "test_df = pd.read_csv(\"C:/Users/Dell/Dropbox (Old)/My PC (DESKTOP-9I2HO18)/Downloads/mnist_test.csv\")"
   ]
  },
  {
   "cell_type": "code",
   "execution_count": 57,
   "id": "marked-murder",
   "metadata": {},
   "outputs": [],
   "source": [
    "x_test=test_df.drop([\"7\"],axis=1)\n",
    "x_test=x_test.to_numpy()"
   ]
  },
  {
   "cell_type": "code",
   "execution_count": 58,
   "id": "advanced-forest",
   "metadata": {},
   "outputs": [],
   "source": [
    "y_test=test_df[\"7\"]\n",
    "y_test=y_test.to_numpy()"
   ]
  },
  {
   "cell_type": "code",
   "execution_count": 63,
   "id": "retained-dietary",
   "metadata": {},
   "outputs": [
    {
     "data": {
      "text/plain": [
       "array([2, 1, 0, ..., 4, 5, 6], dtype=int64)"
      ]
     },
     "execution_count": 63,
     "metadata": {},
     "output_type": "execute_result"
    }
   ],
   "source": [
    "y_test"
   ]
  },
  {
   "cell_type": "code",
   "execution_count": 59,
   "id": "surface-blogger",
   "metadata": {},
   "outputs": [],
   "source": [
    "def sort_ind_list(list1):\n",
    "    return sorted(range(len(list1)),key=list1.__getitem__)\n",
    "    "
   ]
  },
  {
   "cell_type": "code",
   "execution_count": 60,
   "id": "purple-promotion",
   "metadata": {},
   "outputs": [],
   "source": [
    "class knn:\n",
    "    def __init__(self,x_train,y_train,x_test,k):\n",
    "        self.x_train=x_train\n",
    "        self.y_train=y_train\n",
    "        self.x_test=x_test\n",
    "        self.numrow=len(x_train)\n",
    "        self.numrow1=len(x_test)\n",
    "        self.numcol=len(x_train[0])\n",
    "        self.k=k\n",
    "    def neighbours(self,x):\n",
    "        d=np.zeros((self.numrow,1),dtype=int)\n",
    "        self.xtest=np.tile(x, (self.numrow, 1))\n",
    "        y= np.square(self.xtest-self.x_train)\n",
    "        d=np.sqrt(y.sum(axis=1))\n",
    "        order = np.argsort(d)\n",
    "        self.y_train1 = [self.y_train[i] for i in order]\n",
    "        return  statistics.mode(self.y_train1[:self.k])\n",
    "    def finalout(self):\n",
    "        y_ans=np.zeros(self.numrow1,dtype=int)\n",
    "        for i in range(0,self.numrow1):\n",
    "            y_ans[i]=self.neighbours(self.x_test[i]) \n",
    "        return y_ans\n",
    "         \n",
    "            \n",
    "        \n",
    "        \n"
   ]
  },
  {
   "cell_type": "code",
   "execution_count": 61,
   "id": "important-newton",
   "metadata": {},
   "outputs": [],
   "source": [
    "y_predfin=knn(x_train,y_train,x_test,11).finalout()"
   ]
  },
  {
   "cell_type": "code",
   "execution_count": 62,
   "id": "requested-intranet",
   "metadata": {},
   "outputs": [
    {
     "data": {
      "text/plain": [
       "array([2, 1, 0, ..., 4, 5, 6])"
      ]
     },
     "execution_count": 62,
     "metadata": {},
     "output_type": "execute_result"
    }
   ],
   "source": [
    "y_predfin"
   ]
  },
  {
   "cell_type": "code",
   "execution_count": 68,
   "id": "first-assault",
   "metadata": {},
   "outputs": [],
   "source": [
    "count=0\n",
    "for i in range(len(y_test)):\n",
    "    if y_test[i]==y_predfin[i]:\n",
    "        count+=1\n"
   ]
  },
  {
   "cell_type": "code",
   "execution_count": 69,
   "id": "homeless-nicaragua",
   "metadata": {},
   "outputs": [
    {
     "data": {
      "text/plain": [
       "95.5095509550955"
      ]
     },
     "execution_count": 69,
     "metadata": {},
     "output_type": "execute_result"
    }
   ],
   "source": [
    "accuracy=(count/len(y_test)*100)\n",
    "accuracy"
   ]
  },
  {
   "cell_type": "code",
   "execution_count": null,
   "id": "clean-undergraduate",
   "metadata": {},
   "outputs": [],
   "source": [
    "n=int(input())\n",
    "print(\"The predicted output is {0}.\".format(y_predfin[n]))\n",
    "print(\"The real output is {}\".format(y_test[n]))"
   ]
  }
 ],
 "metadata": {
  "kernelspec": {
   "display_name": "Python 3",
   "language": "python",
   "name": "python3"
  },
  "language_info": {
   "codemirror_mode": {
    "name": "ipython",
    "version": 3
   },
   "file_extension": ".py",
   "mimetype": "text/x-python",
   "name": "python",
   "nbconvert_exporter": "python",
   "pygments_lexer": "ipython3",
   "version": "3.9.0"
  }
 },
 "nbformat": 4,
 "nbformat_minor": 5
}
