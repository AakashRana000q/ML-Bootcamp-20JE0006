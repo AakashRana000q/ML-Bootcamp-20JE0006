{
 "cells": [
  {
   "cell_type": "code",
   "execution_count": 1,
   "id": "recorded-hearing",
   "metadata": {},
   "outputs": [],
   "source": [
    "import pandas as pd\n",
    "import numpy as np\n",
    "import math\n",
    "import matplotlib.pyplot as plt\n",
    "import random\n",
    "from sklearn import preprocessing\n",
    "from pandas import DataFrame"
   ]
  },
  {
   "cell_type": "code",
   "execution_count": 23,
   "id": "assigned-montana",
   "metadata": {},
   "outputs": [],
   "source": [
    "train_df = pd.read_csv(\"C:/Users/Dell/Dropbox (Old)/My PC (DESKTOP-9I2HO18)/Downloads/mnist_train_small.csv\")"
   ]
  },
  {
   "cell_type": "markdown",
   "id": "hollow-reserve",
   "metadata": {},
   "source": [
    "Standardisation = preprocessing.StandardScaler()"
   ]
  },
  {
   "cell_type": "code",
   "execution_count": 24,
   "id": "decent-cartridge",
   "metadata": {},
   "outputs": [],
   "source": [
    "def sigmoid(z):\n",
    "    return (1.0 / (1 + np.exp(-z)))"
   ]
  },
  {
   "cell_type": "code",
   "execution_count": 25,
   "id": "prescribed-breakfast",
   "metadata": {},
   "outputs": [],
   "source": [
    "def tanh(z):\n",
    "    t=(np.exp(z)-np.exp(-z))/(np.exp(z)+np.exp(-z))\n",
    "    return t"
   ]
  },
  {
   "cell_type": "code",
   "execution_count": 26,
   "id": "heavy-speech",
   "metadata": {},
   "outputs": [],
   "source": [
    "def dtanh(z):\n",
    "    t=(np.exp(z)-np.exp(-z))/(np.exp(z)+np.exp(-z))\n",
    "    dt=1-t**2\n",
    "    return dt"
   ]
  },
  {
   "cell_type": "code",
   "execution_count": 27,
   "id": "traditional-lawrence",
   "metadata": {},
   "outputs": [],
   "source": [
    "def relu(z):\n",
    "    return np.maximum(z, 0)"
   ]
  },
  {
   "cell_type": "code",
   "execution_count": 28,
   "id": "rotary-employment",
   "metadata": {},
   "outputs": [],
   "source": [
    "def derir(z):\n",
    "    z[z<0] = 0\n",
    "    z[z>=0] = 1\n",
    "    return z\n"
   ]
  },
  {
   "cell_type": "code",
   "execution_count": 29,
   "id": "accomplished-radio",
   "metadata": {},
   "outputs": [],
   "source": [
    "num_col=train_df.shape[1]-1"
   ]
  },
  {
   "cell_type": "code",
   "execution_count": 30,
   "id": "fallen-symposium",
   "metadata": {},
   "outputs": [],
   "source": [
    "num_row=train_df.shape[0]"
   ]
  },
  {
   "cell_type": "code",
   "execution_count": 31,
   "id": "improved-saudi",
   "metadata": {},
   "outputs": [],
   "source": [
    "x_train=train_df.drop([\"6\"],axis=1)"
   ]
  },
  {
   "cell_type": "code",
   "execution_count": 32,
   "id": "toxic-drinking",
   "metadata": {},
   "outputs": [],
   "source": [
    "x_train=x_train.to_numpy()"
   ]
  },
  {
   "cell_type": "markdown",
   "id": "single-nevada",
   "metadata": {},
   "source": [
    "x_train=Standardisation.fit_transform(x_train)"
   ]
  },
  {
   "cell_type": "code",
   "execution_count": 33,
   "id": "technical-scheduling",
   "metadata": {},
   "outputs": [],
   "source": [
    "x_train=x_train.reshape((num_col,num_row))"
   ]
  },
  {
   "cell_type": "code",
   "execution_count": 34,
   "id": "established-audit",
   "metadata": {},
   "outputs": [
    {
     "data": {
      "text/plain": [
       "(784, 19999)"
      ]
     },
     "execution_count": 34,
     "metadata": {},
     "output_type": "execute_result"
    }
   ],
   "source": [
    "x_train.shape"
   ]
  },
  {
   "cell_type": "code",
   "execution_count": 35,
   "id": "dried-claim",
   "metadata": {},
   "outputs": [],
   "source": [
    "y_train=train_df[\"6\"]"
   ]
  },
  {
   "cell_type": "code",
   "execution_count": 36,
   "id": "champion-congress",
   "metadata": {},
   "outputs": [],
   "source": [
    "y_train=y_train.to_numpy()"
   ]
  },
  {
   "cell_type": "code",
   "execution_count": 37,
   "id": "front-jurisdiction",
   "metadata": {},
   "outputs": [],
   "source": [
    "y_train=y_train.reshape(1,num_row)"
   ]
  },
  {
   "cell_type": "code",
   "execution_count": 38,
   "id": "protective-script",
   "metadata": {},
   "outputs": [
    {
     "data": {
      "text/plain": [
       "(1, 19999)"
      ]
     },
     "execution_count": 38,
     "metadata": {},
     "output_type": "execute_result"
    }
   ],
   "source": [
    "y_train.shape"
   ]
  },
  {
   "cell_type": "code",
   "execution_count": 39,
   "id": "swedish-appendix",
   "metadata": {},
   "outputs": [
    {
     "data": {
      "text/plain": [
       "array([[5, 7, 9, ..., 2, 9, 5]], dtype=int64)"
      ]
     },
     "execution_count": 39,
     "metadata": {},
     "output_type": "execute_result"
    }
   ],
   "source": [
    "y_train"
   ]
  },
  {
   "cell_type": "code",
   "execution_count": 41,
   "id": "least-cruise",
   "metadata": {},
   "outputs": [],
   "source": [
    "y_com=np.zeros((10,num_row))"
   ]
  },
  {
   "cell_type": "code",
   "execution_count": 42,
   "id": "greatest-investigator",
   "metadata": {},
   "outputs": [],
   "source": [
    "for i in range(0,num_row):\n",
    "    o=y_train[0][i]\n",
    "    y_com[o][i]=1"
   ]
  },
  {
   "cell_type": "code",
   "execution_count": 43,
   "id": "clinical-rogers",
   "metadata": {},
   "outputs": [],
   "source": [
    "class neural_network:\n",
    "    def __init__(self,x_train,y_com,no_of_iters,learn_rate,a,b):\n",
    "        self.x_train=x_train\n",
    "        self.y_com=y_com\n",
    "        #self.change=number\n",
    "        self.numrain=no_of_iters\n",
    "        self.rate=learn_rate\n",
    "        self.num_row=a\n",
    "        self.num_col=b\n",
    "    def training(self):\n",
    "        w1=(np.random.randn(self.num_col,self.num_col))*0.01\n",
    "        w2=(np.random.randn(self.num_col,self.num_col))*0.01\n",
    "        w3=(np.random.randn(10,self.num_col))*0.01\n",
    "        b1=np.random.randn(self.num_col,1)\n",
    "        b2=np.random.randn(self.num_col,1)\n",
    "        b3=np.random.randn(10,1)\n",
    "        \n",
    "        \n",
    "        for i in range(0,self.numrain):\n",
    "            w3t=np.transpose(w3)\n",
    "            w2t=np.transpose(w2)\n",
    "            \n",
    "            z1=(np.dot(w1,self.x_train))+b1\n",
    "            a1=relu(z1)\n",
    "            a1t=np.transpose(a1)\n",
    "         \n",
    "            \n",
    "            z2=(np.dot(w2,a1))+b2\n",
    "            a2=relu(z2)\n",
    "            a2t=np.transpose(a2)   \n",
    "            \n",
    "            z3=(np.dot(w3,a2))+b3\n",
    "            a3=sigmoid(z3)\n",
    "            \n",
    "            dz3=(a3-self.y_com)\n",
    "            dw3=(np.dot(dz3,a2t))/self.num_row\n",
    "            db3=(np.sum(dz3,axis=1,keepdims=True))/self.num_row\n",
    "            \n",
    "            dz2=(np.dot(w3t,dz3))*(derir(z2))\n",
    "            dw2=(np.dot(dz2,a1t))/self.num_row\n",
    "            db2=(np.sum(dz2,axis=1,keepdims=True))/self.num_row\n",
    "            \n",
    "            dz1=(np.dot(w2t,dz2))*(derir(z1))\n",
    "            dw1=(np.dot(dz1,np.transpose(self.x_train)))/self.num_row\n",
    "            db1=(np.sum(dz1,axis=1,keepdims=True))/self.num_row\n",
    "            \n",
    "            w3=w3-(self.rate*(dw3))\n",
    "            b3=b3-(self.rate*(db3))\n",
    "            w2=w2-(self.rate*(dw2))\n",
    "            b2=b2-(self.rate*(db2))\n",
    "            w1=w1-(self.rate*(dw1))\n",
    "            b1=b1-(self.rate*(db1))\n",
    "            cost=(1/2*self.num_row)*np.sum(np.square(a3-self.y_com))\n",
    "            plt.scatter(i,cost,c=\"red\")\n",
    "        w=[w1,w2,w3]\n",
    "        b=[b1,b2,b3]\n",
    "        return w,b\n",
    "            \n",
    "            \n",
    "            \n",
    "            "
   ]
  },
  {
   "cell_type": "code",
   "execution_count": 44,
   "id": "strange-injection",
   "metadata": {},
   "outputs": [
    {
     "data": {
      "image/png": "[encoded data removed]",
      "text/plain": [
       "<Figure size 432x288 with 1 Axes>"
      ]
     },
     "metadata": {
      "needs_background": "light"
     },
     "output_type": "display_data"
    }
   ],
   "source": [
    "w=neural_network(x_train,y_com,100,0.001,num_row,num_col).training()"
   ]
  },
  {
   "cell_type": "code",
   "execution_count": 45,
   "id": "loved-tennis",
   "metadata": {},
   "outputs": [],
   "source": [
    "w1=w[0][0]"
   ]
  },
  {
   "cell_type": "code",
   "execution_count": 46,
   "id": "consistent-tobago",
   "metadata": {},
   "outputs": [],
   "source": [
    "w2=w[0][1]"
   ]
  },
  {
   "cell_type": "code",
   "execution_count": 47,
   "id": "concerned-caribbean",
   "metadata": {},
   "outputs": [],
   "source": [
    "w3=w[0][2]"
   ]
  },
  {
   "cell_type": "code",
   "execution_count": 48,
   "id": "cooperative-reward",
   "metadata": {},
   "outputs": [],
   "source": [
    "b1=w[1][0]"
   ]
  },
  {
   "cell_type": "code",
   "execution_count": 49,
   "id": "macro-gamma",
   "metadata": {},
   "outputs": [],
   "source": [
    "b2=w[1][1]"
   ]
  },
  {
   "cell_type": "code",
   "execution_count": 50,
   "id": "silent-magnitude",
   "metadata": {},
   "outputs": [],
   "source": [
    "b3=w[1][2]"
   ]
  },
  {
   "cell_type": "code",
   "execution_count": 51,
   "id": "three-pension",
   "metadata": {},
   "outputs": [],
   "source": [
    "test_df = pd.read_csv(\"C:/Users/Dell/Dropbox (Old)/My PC (DESKTOP-9I2HO18)/Downloads/mnist_test.csv\")"
   ]
  },
  {
   "cell_type": "code",
   "execution_count": 52,
   "id": "champion-jaguar",
   "metadata": {},
   "outputs": [],
   "source": [
    "num_col1=test_df.shape[1]-1"
   ]
  },
  {
   "cell_type": "code",
   "execution_count": 53,
   "id": "general-ireland",
   "metadata": {},
   "outputs": [],
   "source": [
    "num_row1=test_df.shape[0]"
   ]
  },
  {
   "cell_type": "code",
   "execution_count": 54,
   "id": "dying-compromise",
   "metadata": {},
   "outputs": [],
   "source": [
    "feat1=test_df.drop([\"7\"],axis=1) "
   ]
  },
  {
   "cell_type": "code",
   "execution_count": 55,
   "id": "incorporated-portal",
   "metadata": {},
   "outputs": [],
   "source": [
    "x_test=feat1.to_numpy()"
   ]
  },
  {
   "cell_type": "markdown",
   "id": "grateful-veteran",
   "metadata": {},
   "source": [
    "x_test=Standardisation.fit_transform(x_test)"
   ]
  },
  {
   "cell_type": "code",
   "execution_count": 56,
   "id": "permanent-religious",
   "metadata": {},
   "outputs": [],
   "source": [
    "x_test=x_test.reshape(784,9999)"
   ]
  },
  {
   "cell_type": "code",
   "execution_count": 57,
   "id": "acting-separate",
   "metadata": {},
   "outputs": [],
   "source": [
    "ydata1=test_df[\"7\"]"
   ]
  },
  {
   "cell_type": "code",
   "execution_count": 58,
   "id": "guilty-currency",
   "metadata": {},
   "outputs": [],
   "source": [
    "y_test=ydata1.to_numpy()\n",
    "y_test=y_test.astype('int') "
   ]
  },
  {
   "cell_type": "code",
   "execution_count": 59,
   "id": "equivalent-bristol",
   "metadata": {},
   "outputs": [],
   "source": [
    "y_test=y_test.reshape(1,num_row1)"
   ]
  },
  {
   "cell_type": "code",
   "execution_count": 60,
   "id": "perceived-berlin",
   "metadata": {},
   "outputs": [],
   "source": [
    "def predict():\n",
    "            \n",
    "    z1=(np.dot(w1,x_test))+b1\n",
    "    a1=relu(z1)\n",
    "    a1t=np.transpose(a1)\n",
    "         \n",
    "    z2=(np.dot(w2,a1))+b2\n",
    "    a2=relu(z2)\n",
    "    a2t=np.transpose(a2)   \n",
    "            \n",
    "    z3=(np.dot(w3,a2))+b3\n",
    "    a3=sigmoid(z3)\n",
    "    \n",
    "    return a3\n",
    "            \n",
    "    "
   ]
  },
  {
   "cell_type": "code",
   "execution_count": 61,
   "id": "honest-voice",
   "metadata": {},
   "outputs": [
    {
     "data": {
      "text/plain": [
       "array([[0.179988  , 0.16305866, 0.12977526, ..., 0.1072182 , 0.14176766,\n",
       "        0.1263909 ],\n",
       "       [0.14683687, 0.14586131, 0.13844293, ..., 0.1099741 , 0.18872992,\n",
       "        0.20586663],\n",
       "       [0.04121369, 0.04146191, 0.04656218, ..., 0.04042648, 0.08033215,\n",
       "        0.11865911],\n",
       "       ...,\n",
       "       [0.19168999, 0.21150226, 0.16886055, ..., 0.11327804, 0.13042215,\n",
       "        0.11600506],\n",
       "       [0.04951671, 0.04960239, 0.05300813, ..., 0.10747888, 0.0700003 ,\n",
       "        0.08343239],\n",
       "       [0.15357054, 0.14064426, 0.11272799, ..., 0.16199012, 0.09110241,\n",
       "        0.0668819 ]])"
      ]
     },
     "execution_count": 61,
     "metadata": {},
     "output_type": "execute_result"
    }
   ],
   "source": [
    "a3=predict()\n",
    "a3             "
   ]
  },
  {
   "cell_type": "code",
   "execution_count": 62,
   "id": "logical-dallas",
   "metadata": {},
   "outputs": [],
   "source": [
    "y_ans=a3.argmax(axis=0)\n",
    "y_ans=y_ans.reshape(1,num_row1)\n"
   ]
  },
  {
   "cell_type": "code",
   "execution_count": 63,
   "id": "nonprofit-arizona",
   "metadata": {},
   "outputs": [
    {
     "data": {
      "text/plain": [
       "array([[4, 7, 7, ..., 9, 1, 1]], dtype=int64)"
      ]
     },
     "execution_count": 63,
     "metadata": {},
     "output_type": "execute_result"
    }
   ],
   "source": [
    "y_ans"
   ]
  },
  {
   "cell_type": "code",
   "execution_count": 64,
   "id": "reliable-bride",
   "metadata": {},
   "outputs": [
    {
     "data": {
      "text/plain": [
       "(1, 9999)"
      ]
     },
     "execution_count": 64,
     "metadata": {},
     "output_type": "execute_result"
    }
   ],
   "source": [
    "y_ans.shape"
   ]
  },
  {
   "cell_type": "code",
   "execution_count": 65,
   "id": "grave-surrey",
   "metadata": {},
   "outputs": [
    {
     "data": {
      "text/plain": [
       "(1, 9999)"
      ]
     },
     "execution_count": 65,
     "metadata": {},
     "output_type": "execute_result"
    }
   ],
   "source": [
    "y_test.shape"
   ]
  },
  {
   "cell_type": "code",
   "execution_count": 66,
   "id": "unique-reputation",
   "metadata": {},
   "outputs": [],
   "source": [
    "count=0\n",
    "for i in range(0,num_row1):\n",
    "    if y_test[0][i]==y_ans[0][i]:\n",
    "        count+=1"
   ]
  },
  {
   "cell_type": "code",
   "execution_count": 67,
   "id": "incorrect-triumph",
   "metadata": {},
   "outputs": [
    {
     "data": {
      "text/plain": [
       "9.37093709370937"
      ]
     },
     "execution_count": 67,
     "metadata": {},
     "output_type": "execute_result"
    }
   ],
   "source": [
    "accuracy=((count/num_row1)*100)\n",
    "accuracy"
   ]
  },
  {
   "cell_type": "code",
   "execution_count": null,
   "id": "respiratory-financing",
   "metadata": {},
   "outputs": [],
   "source": []
  }
 ],
 "metadata": {
  "kernelspec": {
   "display_name": "gputest",
   "language": "python",
   "name": "gputest"
  },
  "language_info": {
   "codemirror_mode": {
    "name": "ipython",
    "version": 3
   },
   "file_extension": ".py",
   "mimetype": "text/x-python",
   "name": "python",
   "nbconvert_exporter": "python",
   "pygments_lexer": "ipython3",
   "version": "3.8.8"
  }
 },
 "nbformat": 4,
 "nbformat_minor": 5
}
