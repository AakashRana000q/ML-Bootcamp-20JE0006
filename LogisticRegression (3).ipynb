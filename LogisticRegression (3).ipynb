{
 "cells": [
  {
   "cell_type": "markdown",
   "id": "reported-equivalent",
   "metadata": {},
   "source": [
    "IMPORTING MODULES"
   ]
  },
  {
   "cell_type": "code",
   "execution_count": 206,
   "id": "wrong-warning",
   "metadata": {},
   "outputs": [],
   "source": [
    "import pandas as pd\n",
    "import numpy as np\n",
    "import math\n",
    "import matplotlib.pyplot as plt\n",
    "import random\n",
    "from pandas import DataFrame"
   ]
  },
  {
   "cell_type": "markdown",
   "id": "detailed-norway",
   "metadata": {},
   "source": [
    "IMPORTING TRAINING SET"
   ]
  },
  {
   "cell_type": "code",
   "execution_count": 207,
   "id": "august-glance",
   "metadata": {},
   "outputs": [],
   "source": [
    "train_df = pd.read_csv(\"C:/Users/Dell/Dropbox (Old)/My PC (DESKTOP-9I2HO18)/Downloads/mnist_train_small.csv\")"
   ]
  },
  {
   "cell_type": "markdown",
   "id": "timely-clause",
   "metadata": {},
   "source": [
    "DEFINING TRAINING FUNCTION"
   ]
  },
  {
   "cell_type": "code",
   "execution_count": 208,
   "id": "expired-desire",
   "metadata": {},
   "outputs": [],
   "source": [
    "def sigmoid(z):\n",
    "    return (1.0 / (1 + np.exp(-z)))"
   ]
  },
  {
   "cell_type": "markdown",
   "id": "apparent-movie",
   "metadata": {},
   "source": [
    "NUMBER OF ROWS AND COLUMNS"
   ]
  },
  {
   "cell_type": "code",
   "execution_count": 209,
   "id": "framed-madagascar",
   "metadata": {},
   "outputs": [],
   "source": [
    "num_col=train_df.shape[1]"
   ]
  },
  {
   "cell_type": "code",
   "execution_count": 210,
   "id": "existing-titanium",
   "metadata": {},
   "outputs": [],
   "source": [
    "num_row=train_df.shape[0]"
   ]
  },
  {
   "cell_type": "markdown",
   "id": "italic-relaxation",
   "metadata": {},
   "source": [
    "CREATING ARRAY OF FEATURES"
   ]
  },
  {
   "cell_type": "code",
   "execution_count": 211,
   "id": "south-latin",
   "metadata": {},
   "outputs": [],
   "source": [
    "feat=train_df.drop([\"6\"],axis=1)"
   ]
  },
  {
   "cell_type": "code",
   "execution_count": 212,
   "id": "continent-tamil",
   "metadata": {},
   "outputs": [],
   "source": [
    "list1=np.ones(num_row, dtype = int)"
   ]
  },
  {
   "cell_type": "code",
   "execution_count": 213,
   "id": "entitled-rescue",
   "metadata": {},
   "outputs": [],
   "source": [
    "feat.insert(loc=0, column='A', value=list1) # 1 is inserted for accomodating constant "
   ]
  },
  {
   "cell_type": "code",
   "execution_count": 214,
   "id": "public-likelihood",
   "metadata": {},
   "outputs": [],
   "source": [
    "x_train1=feat.to_numpy()"
   ]
  },
  {
   "cell_type": "code",
   "execution_count": 215,
   "id": "suitable-flush",
   "metadata": {},
   "outputs": [],
   "source": [
    "x_train=x_train1.astype('float64') "
   ]
  },
  {
   "cell_type": "markdown",
   "id": "black-coach",
   "metadata": {},
   "source": [
    "CREATING ARRAY OF LABELS"
   ]
  },
  {
   "cell_type": "code",
   "execution_count": 216,
   "id": "hourly-painting",
   "metadata": {},
   "outputs": [],
   "source": [
    "ydata=train_df[\"6\"] #6 is the label's column name"
   ]
  },
  {
   "cell_type": "code",
   "execution_count": 217,
   "id": "meaning-badge",
   "metadata": {},
   "outputs": [],
   "source": [
    "y_train=ydata.to_numpy()\n",
    "y_train=y_train.astype('int') "
   ]
  },
  {
   "cell_type": "code",
   "execution_count": 218,
   "id": "innovative-square",
   "metadata": {},
   "outputs": [],
   "source": [
    "y_train=y_train.reshape(1,num_row) #2-D array for matrix calculations"
   ]
  },
  {
   "cell_type": "code",
   "execution_count": 219,
   "id": "liked-hypothetical",
   "metadata": {},
   "outputs": [
    {
     "data": {
      "text/plain": [
       "(1, 19999)"
      ]
     },
     "execution_count": 219,
     "metadata": {},
     "output_type": "execute_result"
    }
   ],
   "source": [
    "y_train.shape  "
   ]
  },
  {
   "cell_type": "markdown",
   "id": "finite-alliance",
   "metadata": {},
   "source": [
    "DEFINING A CLASS FOR TRAINING ON THE DATA SET AND PROVIDING THE THETA MATRIX"
   ]
  },
  {
   "cell_type": "code",
   "execution_count": 220,
   "id": "regulation-london",
   "metadata": {},
   "outputs": [],
   "source": [
    "class logreg:\n",
    "    def __init__(self,x,y,number,no_of_iters,learn_rate,a,b):\n",
    "        self.xset=x\n",
    "        self.yset=y\n",
    "        self.change=number\n",
    "        self.numrain=no_of_iters\n",
    "        self.rate=learn_rate\n",
    "        self.numrow=a\n",
    "        self.numcol=b\n",
    "        for i in range(0,a):      # changing label values to binary for respective permutation\n",
    "            if self.yset[0][i]==self.change:\n",
    "                self.yset[0][i]=1\n",
    "            else:\n",
    "                self.yset[0][i]=0\n",
    "        \n",
    "    def training(self): \n",
    "        theta=np.zeros((1,self.numcol),dtype=float)  # initializing theta matrix\n",
    "        self.predi=sigmoid(np.dot(theta,np.transpose(self.xset)))  # initializing predicted output matrix\n",
    "        for m in range(0,self.numrain):\n",
    "            D=np.dot((self.predi-self.yset),self.xset)# partial differentiation function\n",
    "            theta1=theta\n",
    "            # updating the theta matrix\n",
    "            theta=theta-((self.rate/self.numrow)*D)                \n",
    "            theta[0][0]=theta1[0][0]-((self.rate/self.numrow)*np.sum(self.predi-self.yset))\n",
    "            # calculating new predicted matrix\n",
    "            self.predi=sigmoid(np.dot(theta,np.transpose(self.xset)))\n",
    "        # defining cost function\n",
    "        cost=(1/2*self.numrow)*np.sum(np.square(self.predi-self.yset))\n",
    "        return(theta)\n",
    "        \n",
    "        \n",
    "        \n",
    "        "
   ]
  },
  {
   "cell_type": "markdown",
   "id": "original-creation",
   "metadata": {},
   "source": [
    "FINDING THETA MATRICES FOR ALL POSSIBLE COMBINATIONS"
   ]
  },
  {
   "cell_type": "code",
   "execution_count": 77,
   "id": "thousand-light",
   "metadata": {},
   "outputs": [],
   "source": [
    "theta1=logreg(x_train,y_train,0,1000,0.0000008,num_row,num_col).training()"
   ]
  },
  {
   "cell_type": "code",
   "execution_count": 93,
   "id": "educated-beach",
   "metadata": {},
   "outputs": [],
   "source": [
    "theta2=logreg(x_train,y_train,1,1000,0.0000008,num_row,num_col).training()"
   ]
  },
  {
   "cell_type": "code",
   "execution_count": 109,
   "id": "green-basin",
   "metadata": {},
   "outputs": [],
   "source": [
    "theta3=logreg(x_train,y_train,2,1000,0.0000008,num_row,num_col).training()"
   ]
  },
  {
   "cell_type": "code",
   "execution_count": 125,
   "id": "accessible-complement",
   "metadata": {},
   "outputs": [],
   "source": [
    "theta4=logreg(x_train,y_train,3,1000,0.0000008,num_row,num_col).training()"
   ]
  },
  {
   "cell_type": "code",
   "execution_count": 141,
   "id": "royal-victoria",
   "metadata": {},
   "outputs": [],
   "source": [
    "theta5=logreg(x_train,y_train,4,1000,0.0000008,num_row,num_col).training()"
   ]
  },
  {
   "cell_type": "code",
   "execution_count": 157,
   "id": "designed-ladder",
   "metadata": {},
   "outputs": [],
   "source": [
    "theta6=logreg(x_train,y_train,5,1000,0.0000008,num_row,num_col).training()"
   ]
  },
  {
   "cell_type": "code",
   "execution_count": 173,
   "id": "coordinated-falls",
   "metadata": {},
   "outputs": [],
   "source": [
    "theta7=logreg(x_train,y_train,6,1000,0.0000008,num_row,num_col).training()"
   ]
  },
  {
   "cell_type": "code",
   "execution_count": 189,
   "id": "super-layout",
   "metadata": {},
   "outputs": [],
   "source": [
    "theta8=logreg(x_train,y_train,7,1000,0.0000008,num_row,num_col).training()"
   ]
  },
  {
   "cell_type": "code",
   "execution_count": 205,
   "id": "referenced-fundamental",
   "metadata": {},
   "outputs": [],
   "source": [
    "theta9=logreg(x_train,y_train,8,1000,0.0000008,num_row,num_col).training()"
   ]
  },
  {
   "cell_type": "code",
   "execution_count": 221,
   "id": "adopted-accent",
   "metadata": {},
   "outputs": [],
   "source": [
    "theta10=logreg(x_train,y_train,9,1000,0.0000008,num_row,num_col).training()"
   ]
  },
  {
   "cell_type": "markdown",
   "id": "technical-temple",
   "metadata": {},
   "source": [
    "\n",
    "\n",
    "\n",
    "CREATING A LIST OF THETA MATRICES"
   ]
  },
  {
   "cell_type": "code",
   "execution_count": 222,
   "id": "subsequent-action",
   "metadata": {},
   "outputs": [],
   "source": [
    "theta=[theta1,theta2,theta3,theta4,theta5,theta6,theta7,theta8,theta9,theta10]"
   ]
  },
  {
   "cell_type": "markdown",
   "id": "useful-track",
   "metadata": {},
   "source": [
    "TESTING"
   ]
  },
  {
   "cell_type": "markdown",
   "id": "hungarian-sheriff",
   "metadata": {},
   "source": [
    "IMPORTING DATASET FOR TESTING"
   ]
  },
  {
   "cell_type": "code",
   "execution_count": 223,
   "id": "suspended-serial",
   "metadata": {},
   "outputs": [],
   "source": [
    "test_df = pd.read_csv(\"C:/Users/Dell/Dropbox (Old)/My PC (DESKTOP-9I2HO18)/Downloads/mnist_test.csv\")"
   ]
  },
  {
   "cell_type": "code",
   "execution_count": 224,
   "id": "previous-premises",
   "metadata": {},
   "outputs": [
    {
     "data": {
      "text/html": [
       "<div>\n",
       "<style scoped>\n",
       "    .dataframe tbody tr th:only-of-type {\n",
       "        vertical-align: middle;\n",
       "    }\n",
       "\n",
       "    .dataframe tbody tr th {\n",
       "        vertical-align: top;\n",
       "    }\n",
       "\n",
       "    .dataframe thead th {\n",
       "        text-align: right;\n",
       "    }\n",
       "</style>\n",
       "<table border=\"1\" class=\"dataframe\">\n",
       "  <thead>\n",
       "    <tr style=\"text-align: right;\">\n",
       "      <th></th>\n",
       "      <th>7</th>\n",
       "      <th>0</th>\n",
       "      <th>0.1</th>\n",
       "      <th>0.2</th>\n",
       "      <th>0.3</th>\n",
       "      <th>0.4</th>\n",
       "      <th>0.5</th>\n",
       "      <th>0.6</th>\n",
       "      <th>0.7</th>\n",
       "      <th>0.8</th>\n",
       "      <th>...</th>\n",
       "      <th>0.658</th>\n",
       "      <th>0.659</th>\n",
       "      <th>0.660</th>\n",
       "      <th>0.661</th>\n",
       "      <th>0.662</th>\n",
       "      <th>0.663</th>\n",
       "      <th>0.664</th>\n",
       "      <th>0.665</th>\n",
       "      <th>0.666</th>\n",
       "      <th>0.667</th>\n",
       "    </tr>\n",
       "  </thead>\n",
       "  <tbody>\n",
       "    <tr>\n",
       "      <th>0</th>\n",
       "      <td>2</td>\n",
       "      <td>0</td>\n",
       "      <td>0</td>\n",
       "      <td>0</td>\n",
       "      <td>0</td>\n",
       "      <td>0</td>\n",
       "      <td>0</td>\n",
       "      <td>0</td>\n",
       "      <td>0</td>\n",
       "      <td>0</td>\n",
       "      <td>...</td>\n",
       "      <td>0</td>\n",
       "      <td>0</td>\n",
       "      <td>0</td>\n",
       "      <td>0</td>\n",
       "      <td>0</td>\n",
       "      <td>0</td>\n",
       "      <td>0</td>\n",
       "      <td>0</td>\n",
       "      <td>0</td>\n",
       "      <td>0</td>\n",
       "    </tr>\n",
       "    <tr>\n",
       "      <th>1</th>\n",
       "      <td>1</td>\n",
       "      <td>0</td>\n",
       "      <td>0</td>\n",
       "      <td>0</td>\n",
       "      <td>0</td>\n",
       "      <td>0</td>\n",
       "      <td>0</td>\n",
       "      <td>0</td>\n",
       "      <td>0</td>\n",
       "      <td>0</td>\n",
       "      <td>...</td>\n",
       "      <td>0</td>\n",
       "      <td>0</td>\n",
       "      <td>0</td>\n",
       "      <td>0</td>\n",
       "      <td>0</td>\n",
       "      <td>0</td>\n",
       "      <td>0</td>\n",
       "      <td>0</td>\n",
       "      <td>0</td>\n",
       "      <td>0</td>\n",
       "    </tr>\n",
       "    <tr>\n",
       "      <th>2</th>\n",
       "      <td>0</td>\n",
       "      <td>0</td>\n",
       "      <td>0</td>\n",
       "      <td>0</td>\n",
       "      <td>0</td>\n",
       "      <td>0</td>\n",
       "      <td>0</td>\n",
       "      <td>0</td>\n",
       "      <td>0</td>\n",
       "      <td>0</td>\n",
       "      <td>...</td>\n",
       "      <td>0</td>\n",
       "      <td>0</td>\n",
       "      <td>0</td>\n",
       "      <td>0</td>\n",
       "      <td>0</td>\n",
       "      <td>0</td>\n",
       "      <td>0</td>\n",
       "      <td>0</td>\n",
       "      <td>0</td>\n",
       "      <td>0</td>\n",
       "    </tr>\n",
       "    <tr>\n",
       "      <th>3</th>\n",
       "      <td>4</td>\n",
       "      <td>0</td>\n",
       "      <td>0</td>\n",
       "      <td>0</td>\n",
       "      <td>0</td>\n",
       "      <td>0</td>\n",
       "      <td>0</td>\n",
       "      <td>0</td>\n",
       "      <td>0</td>\n",
       "      <td>0</td>\n",
       "      <td>...</td>\n",
       "      <td>0</td>\n",
       "      <td>0</td>\n",
       "      <td>0</td>\n",
       "      <td>0</td>\n",
       "      <td>0</td>\n",
       "      <td>0</td>\n",
       "      <td>0</td>\n",
       "      <td>0</td>\n",
       "      <td>0</td>\n",
       "      <td>0</td>\n",
       "    </tr>\n",
       "    <tr>\n",
       "      <th>4</th>\n",
       "      <td>1</td>\n",
       "      <td>0</td>\n",
       "      <td>0</td>\n",
       "      <td>0</td>\n",
       "      <td>0</td>\n",
       "      <td>0</td>\n",
       "      <td>0</td>\n",
       "      <td>0</td>\n",
       "      <td>0</td>\n",
       "      <td>0</td>\n",
       "      <td>...</td>\n",
       "      <td>0</td>\n",
       "      <td>0</td>\n",
       "      <td>0</td>\n",
       "      <td>0</td>\n",
       "      <td>0</td>\n",
       "      <td>0</td>\n",
       "      <td>0</td>\n",
       "      <td>0</td>\n",
       "      <td>0</td>\n",
       "      <td>0</td>\n",
       "    </tr>\n",
       "    <tr>\n",
       "      <th>...</th>\n",
       "      <td>...</td>\n",
       "      <td>...</td>\n",
       "      <td>...</td>\n",
       "      <td>...</td>\n",
       "      <td>...</td>\n",
       "      <td>...</td>\n",
       "      <td>...</td>\n",
       "      <td>...</td>\n",
       "      <td>...</td>\n",
       "      <td>...</td>\n",
       "      <td>...</td>\n",
       "      <td>...</td>\n",
       "      <td>...</td>\n",
       "      <td>...</td>\n",
       "      <td>...</td>\n",
       "      <td>...</td>\n",
       "      <td>...</td>\n",
       "      <td>...</td>\n",
       "      <td>...</td>\n",
       "      <td>...</td>\n",
       "      <td>...</td>\n",
       "    </tr>\n",
       "    <tr>\n",
       "      <th>9994</th>\n",
       "      <td>2</td>\n",
       "      <td>0</td>\n",
       "      <td>0</td>\n",
       "      <td>0</td>\n",
       "      <td>0</td>\n",
       "      <td>0</td>\n",
       "      <td>0</td>\n",
       "      <td>0</td>\n",
       "      <td>0</td>\n",
       "      <td>0</td>\n",
       "      <td>...</td>\n",
       "      <td>0</td>\n",
       "      <td>0</td>\n",
       "      <td>0</td>\n",
       "      <td>0</td>\n",
       "      <td>0</td>\n",
       "      <td>0</td>\n",
       "      <td>0</td>\n",
       "      <td>0</td>\n",
       "      <td>0</td>\n",
       "      <td>0</td>\n",
       "    </tr>\n",
       "    <tr>\n",
       "      <th>9995</th>\n",
       "      <td>3</td>\n",
       "      <td>0</td>\n",
       "      <td>0</td>\n",
       "      <td>0</td>\n",
       "      <td>0</td>\n",
       "      <td>0</td>\n",
       "      <td>0</td>\n",
       "      <td>0</td>\n",
       "      <td>0</td>\n",
       "      <td>0</td>\n",
       "      <td>...</td>\n",
       "      <td>0</td>\n",
       "      <td>0</td>\n",
       "      <td>0</td>\n",
       "      <td>0</td>\n",
       "      <td>0</td>\n",
       "      <td>0</td>\n",
       "      <td>0</td>\n",
       "      <td>0</td>\n",
       "      <td>0</td>\n",
       "      <td>0</td>\n",
       "    </tr>\n",
       "    <tr>\n",
       "      <th>9996</th>\n",
       "      <td>4</td>\n",
       "      <td>0</td>\n",
       "      <td>0</td>\n",
       "      <td>0</td>\n",
       "      <td>0</td>\n",
       "      <td>0</td>\n",
       "      <td>0</td>\n",
       "      <td>0</td>\n",
       "      <td>0</td>\n",
       "      <td>0</td>\n",
       "      <td>...</td>\n",
       "      <td>0</td>\n",
       "      <td>0</td>\n",
       "      <td>0</td>\n",
       "      <td>0</td>\n",
       "      <td>0</td>\n",
       "      <td>0</td>\n",
       "      <td>0</td>\n",
       "      <td>0</td>\n",
       "      <td>0</td>\n",
       "      <td>0</td>\n",
       "    </tr>\n",
       "    <tr>\n",
       "      <th>9997</th>\n",
       "      <td>5</td>\n",
       "      <td>0</td>\n",
       "      <td>0</td>\n",
       "      <td>0</td>\n",
       "      <td>0</td>\n",
       "      <td>0</td>\n",
       "      <td>0</td>\n",
       "      <td>0</td>\n",
       "      <td>0</td>\n",
       "      <td>0</td>\n",
       "      <td>...</td>\n",
       "      <td>0</td>\n",
       "      <td>0</td>\n",
       "      <td>0</td>\n",
       "      <td>0</td>\n",
       "      <td>0</td>\n",
       "      <td>0</td>\n",
       "      <td>0</td>\n",
       "      <td>0</td>\n",
       "      <td>0</td>\n",
       "      <td>0</td>\n",
       "    </tr>\n",
       "    <tr>\n",
       "      <th>9998</th>\n",
       "      <td>6</td>\n",
       "      <td>0</td>\n",
       "      <td>0</td>\n",
       "      <td>0</td>\n",
       "      <td>0</td>\n",
       "      <td>0</td>\n",
       "      <td>0</td>\n",
       "      <td>0</td>\n",
       "      <td>0</td>\n",
       "      <td>0</td>\n",
       "      <td>...</td>\n",
       "      <td>0</td>\n",
       "      <td>0</td>\n",
       "      <td>0</td>\n",
       "      <td>0</td>\n",
       "      <td>0</td>\n",
       "      <td>0</td>\n",
       "      <td>0</td>\n",
       "      <td>0</td>\n",
       "      <td>0</td>\n",
       "      <td>0</td>\n",
       "    </tr>\n",
       "  </tbody>\n",
       "</table>\n",
       "<p>9999 rows × 785 columns</p>\n",
       "</div>"
      ],
      "text/plain": [
       "      7  0  0.1  0.2  0.3  0.4  0.5  0.6  0.7  0.8  ...  0.658  0.659  0.660  \\\n",
       "0     2  0    0    0    0    0    0    0    0    0  ...      0      0      0   \n",
       "1     1  0    0    0    0    0    0    0    0    0  ...      0      0      0   \n",
       "2     0  0    0    0    0    0    0    0    0    0  ...      0      0      0   \n",
       "3     4  0    0    0    0    0    0    0    0    0  ...      0      0      0   \n",
       "4     1  0    0    0    0    0    0    0    0    0  ...      0      0      0   \n",
       "...  .. ..  ...  ...  ...  ...  ...  ...  ...  ...  ...    ...    ...    ...   \n",
       "9994  2  0    0    0    0    0    0    0    0    0  ...      0      0      0   \n",
       "9995  3  0    0    0    0    0    0    0    0    0  ...      0      0      0   \n",
       "9996  4  0    0    0    0    0    0    0    0    0  ...      0      0      0   \n",
       "9997  5  0    0    0    0    0    0    0    0    0  ...      0      0      0   \n",
       "9998  6  0    0    0    0    0    0    0    0    0  ...      0      0      0   \n",
       "\n",
       "      0.661  0.662  0.663  0.664  0.665  0.666  0.667  \n",
       "0         0      0      0      0      0      0      0  \n",
       "1         0      0      0      0      0      0      0  \n",
       "2         0      0      0      0      0      0      0  \n",
       "3         0      0      0      0      0      0      0  \n",
       "4         0      0      0      0      0      0      0  \n",
       "...     ...    ...    ...    ...    ...    ...    ...  \n",
       "9994      0      0      0      0      0      0      0  \n",
       "9995      0      0      0      0      0      0      0  \n",
       "9996      0      0      0      0      0      0      0  \n",
       "9997      0      0      0      0      0      0      0  \n",
       "9998      0      0      0      0      0      0      0  \n",
       "\n",
       "[9999 rows x 785 columns]"
      ]
     },
     "execution_count": 224,
     "metadata": {},
     "output_type": "execute_result"
    }
   ],
   "source": [
    "test_df"
   ]
  },
  {
   "cell_type": "markdown",
   "id": "eastern-amendment",
   "metadata": {},
   "source": [
    "FINDING NUMBER OF ROWS AND COLUMNS"
   ]
  },
  {
   "cell_type": "code",
   "execution_count": 225,
   "id": "radical-archive",
   "metadata": {},
   "outputs": [],
   "source": [
    "num_col1=test_df.shape[1]"
   ]
  },
  {
   "cell_type": "code",
   "execution_count": 226,
   "id": "three-clark",
   "metadata": {},
   "outputs": [],
   "source": [
    "num_row1=test_df.shape[0]"
   ]
  },
  {
   "cell_type": "markdown",
   "id": "occupied-worry",
   "metadata": {},
   "source": [
    "CREATING AN ARRAY OF FEATURES"
   ]
  },
  {
   "cell_type": "code",
   "execution_count": 227,
   "id": "meaningful-dragon",
   "metadata": {},
   "outputs": [],
   "source": [
    "feat1=test_df.drop([\"7\"],axis=1) # 7 is the label's column name"
   ]
  },
  {
   "cell_type": "code",
   "execution_count": 228,
   "id": "comic-certification",
   "metadata": {},
   "outputs": [],
   "source": [
    "list2=np.ones(num_row1, dtype = int)"
   ]
  },
  {
   "cell_type": "code",
   "execution_count": 229,
   "id": "caroline-bennett",
   "metadata": {},
   "outputs": [],
   "source": [
    "feat1.insert(loc=0, column='A', value=list2) # 1 is inserted for accomodating constant "
   ]
  },
  {
   "cell_type": "code",
   "execution_count": 230,
   "id": "executive-freedom",
   "metadata": {},
   "outputs": [],
   "source": [
    "x_test1=feat1.to_numpy()"
   ]
  },
  {
   "cell_type": "code",
   "execution_count": 231,
   "id": "exact-basis",
   "metadata": {},
   "outputs": [],
   "source": [
    "x_test=x_test1.astype('float64')"
   ]
  },
  {
   "cell_type": "markdown",
   "id": "national-belgium",
   "metadata": {},
   "source": [
    "CREATING LABEL MATRIX"
   ]
  },
  {
   "cell_type": "code",
   "execution_count": 232,
   "id": "answering-clock",
   "metadata": {},
   "outputs": [],
   "source": [
    "ydata1=test_df[\"7\"]"
   ]
  },
  {
   "cell_type": "code",
   "execution_count": 233,
   "id": "electoral-industry",
   "metadata": {},
   "outputs": [],
   "source": [
    "y_test=ydata1.to_numpy()\n",
    "y_test=y_test.astype('int') "
   ]
  },
  {
   "cell_type": "code",
   "execution_count": 234,
   "id": "metropolitan-cartoon",
   "metadata": {},
   "outputs": [],
   "source": [
    "y_test=y_test.reshape(1,num_row1)"
   ]
  },
  {
   "cell_type": "code",
   "execution_count": 235,
   "id": "progressive-peace",
   "metadata": {},
   "outputs": [
    {
     "data": {
      "text/plain": [
       "array([[2, 1, 0, ..., 4, 5, 6]])"
      ]
     },
     "execution_count": 235,
     "metadata": {},
     "output_type": "execute_result"
    }
   ],
   "source": [
    "y_test"
   ]
  },
  {
   "cell_type": "markdown",
   "id": "sorted-birth",
   "metadata": {},
   "source": [
    "CALCULATING PREDICTED OUTPUT MATRICES FOR ALL COMBINATIONS AND CREATING A LIST FOR STORING THE SAME"
   ]
  },
  {
   "cell_type": "code",
   "execution_count": 236,
   "id": "charming-oregon",
   "metadata": {},
   "outputs": [
    {
     "data": {
      "text/plain": [
       "(1, 785)"
      ]
     },
     "execution_count": 236,
     "metadata": {},
     "output_type": "execute_result"
    }
   ],
   "source": [
    "theta[1].shape"
   ]
  },
  {
   "cell_type": "code",
   "execution_count": 237,
   "id": "viral-attraction",
   "metadata": {},
   "outputs": [
    {
     "data": {
      "text/plain": [
       "(785, 9999)"
      ]
     },
     "execution_count": 237,
     "metadata": {},
     "output_type": "execute_result"
    }
   ],
   "source": [
    "(np.transpose(x_test)).shape"
   ]
  },
  {
   "cell_type": "code",
   "execution_count": 238,
   "id": "returning-college",
   "metadata": {},
   "outputs": [],
   "source": [
    "pred_out=[None]*10"
   ]
  },
  {
   "cell_type": "code",
   "execution_count": 239,
   "id": "acting-remove",
   "metadata": {},
   "outputs": [
    {
     "data": {
      "text/plain": [
       "[None, None, None, None, None, None, None, None, None, None]"
      ]
     },
     "execution_count": 239,
     "metadata": {},
     "output_type": "execute_result"
    }
   ],
   "source": [
    "pred_out"
   ]
  },
  {
   "cell_type": "code",
   "execution_count": 240,
   "id": "loaded-variation",
   "metadata": {},
   "outputs": [],
   "source": [
    "for i in range (0,10):\n",
    "    pred_out[i]=sigmoid(np.dot(theta[i],np.transpose(x_test)))"
   ]
  },
  {
   "cell_type": "markdown",
   "id": "cardiovascular-beast",
   "metadata": {},
   "source": [
    "DEFINING A FUNCTION FOR FINDING ACCURACY OF PREDICTED OUTPUT"
   ]
  },
  {
   "cell_type": "code",
   "execution_count": 241,
   "id": "established-america",
   "metadata": {},
   "outputs": [],
   "source": [
    "def maximumaccu(n):\n",
    "    lists=[0,1,2,3,4,5,6,7,8,9]  #creating a random list\n",
    "    for i in range(0,10):\n",
    "        lists[i]=pred_out[i][0][n]   # assigning values (all probabilities cooresponding to a training example) to the list\n",
    "    df = DataFrame (lists,columns=['p']) #converting the list to dataframe to facilitate the process to find maximum probability\n",
    "    l=df.max(axis=0)\n",
    "    m=df[['p']].idxmax()\n",
    "    return(l)\n",
    "    \n",
    "    "
   ]
  },
  {
   "cell_type": "markdown",
   "id": "impressive-aside",
   "metadata": {},
   "source": [
    "DEFINING A FUNCTION FOR FINDING VALUE OF PREDICTED OUTPUT"
   ]
  },
  {
   "cell_type": "code",
   "execution_count": 242,
   "id": "animated-guinea",
   "metadata": {},
   "outputs": [],
   "source": [
    "def maximumind(n):\n",
    "    lists=[0,1,2,3,4,5,6,7,8,9]\n",
    "    for i in range(0,10):\n",
    "        lists[i]=pred_out[i][0][n]\n",
    "    df = DataFrame (lists,columns=['p'])\n",
    "    l=df.max(axis=0)\n",
    "    m=df[['p']].idxmax()\n",
    "    return(m)\n",
    "    "
   ]
  },
  {
   "cell_type": "code",
   "execution_count": 243,
   "id": "baking-opera",
   "metadata": {},
   "outputs": [],
   "source": [
    "y_ans=np.zeros((1,9999))\n",
    "for k in range(0,9999):\n",
    "    y_ans[0][k]= maximumind(k)"
   ]
  },
  {
   "cell_type": "code",
   "execution_count": 246,
   "id": "tested-example",
   "metadata": {},
   "outputs": [
    {
     "data": {
      "text/plain": [
       "array([[2, 1, 0, ..., 4, 8, 6]])"
      ]
     },
     "execution_count": 246,
     "metadata": {},
     "output_type": "execute_result"
    }
   ],
   "source": [
    "y_ans"
   ]
  },
  {
   "cell_type": "code",
   "execution_count": 245,
   "id": "incorporate-outside",
   "metadata": {},
   "outputs": [],
   "source": [
    "y_ans=y_ans.astype(\"int\")"
   ]
  },
  {
   "cell_type": "markdown",
   "id": "musical-draft",
   "metadata": {},
   "source": [
    "FINALLY RUNNING OUR CODE"
   ]
  },
  {
   "cell_type": "code",
   "execution_count": 247,
   "id": "written-canberra",
   "metadata": {},
   "outputs": [],
   "source": [
    "count=0\n",
    "for i in range(0,num_row1):\n",
    "    if y_test[0][i]==y_ans[0][i]:\n",
    "        count+=1"
   ]
  },
  {
   "cell_type": "code",
   "execution_count": 248,
   "id": "horizontal-liberty",
   "metadata": {},
   "outputs": [
    {
     "data": {
      "text/plain": [
       "88.88888888888889"
      ]
     },
     "execution_count": 248,
     "metadata": {},
     "output_type": "execute_result"
    }
   ],
   "source": [
    "accuracy=((count/num_row1)*100)\n",
    "accuracy"
   ]
  },
  {
   "cell_type": "code",
   "execution_count": 249,
   "id": "least-blowing",
   "metadata": {},
   "outputs": [
    {
     "name": "stdin",
     "output_type": "stream",
     "text": [
      " 3742\n"
     ]
    },
    {
     "name": "stdout",
     "output_type": "stream",
     "text": [
      "The predicted output is p    7\n",
      "dtype: int64 with an accuracy of p    0.992215\n",
      "dtype: float64\n",
      "The real output is 7\n"
     ]
    }
   ],
   "source": [
    "'''Write the training example for which you want output.'''\n",
    "n=int(input())\n",
    "print(\"The predicted output is {0} with an accuracy of {1}\".format(maximumind(n),maximumaccu(n)))\n",
    "print(\"The real output is {}\".format(y_test[0][n]))\n",
    "\n",
    "\n"
   ]
  },
  {
   "cell_type": "code",
   "execution_count": 287,
   "id": "willing-stations",
   "metadata": {},
   "outputs": [
    {
     "name": "stdin",
     "output_type": "stream",
     "text": [
      " 9998\n"
     ]
    },
    {
     "name": "stdout",
     "output_type": "stream",
     "text": [
      "The predicted output is p    6\n",
      "dtype: int64 with an accuracy of p    0.989824\n",
      "dtype: float64\n",
      "The real output is 6\n"
     ]
    }
   ],
   "source": [
    "'''Write the training example for which you want output.'''\n",
    "n=int(input())\n",
    "print(\"The predicted output is {0} with an accuracy of {1}\".format(maximumind(n),maximumaccu(n)))\n",
    "print(\"The real output is {}\".format(y_test[0][n]))\n"
   ]
  },
  {
   "cell_type": "code",
   "execution_count": 289,
   "id": "hearing-invite",
   "metadata": {},
   "outputs": [
    {
     "name": "stdin",
     "output_type": "stream",
     "text": [
      " 1234\n"
     ]
    },
    {
     "name": "stdout",
     "output_type": "stream",
     "text": [
      "The predicted output is p    5\n",
      "dtype: int64 with an accuracy of p    0.502743\n",
      "dtype: float64\n",
      "The real output is 5\n"
     ]
    }
   ],
   "source": [
    "'''Write the training example for which you want output.'''\n",
    "n=int(input())\n",
    "print(\"The predicted output is {0} with an accuracy of {1}\".format(maximumind(n),maximumaccu(n)))\n",
    "print(\"The real output is {}\".format(y_test[0][n]))\n"
   ]
  },
  {
   "cell_type": "code",
   "execution_count": null,
   "id": "forward-selling",
   "metadata": {},
   "outputs": [],
   "source": []
  }
 ],
 "metadata": {
  "kernelspec": {
   "display_name": "Python 3",
   "language": "python",
   "name": "python3"
  },
  "language_info": {
   "codemirror_mode": {
    "name": "ipython",
    "version": 3
   },
   "file_extension": ".py",
   "mimetype": "text/x-python",
   "name": "python",
   "nbconvert_exporter": "python",
   "pygments_lexer": "ipython3",
   "version": "3.9.0"
  }
 },
 "nbformat": 4,
 "nbformat_minor": 5
}
