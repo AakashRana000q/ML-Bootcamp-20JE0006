{
 "cells": [
  {
   "cell_type": "code",
   "execution_count": 3,
   "id": "minor-teacher",
   "metadata": {},
   "outputs": [],
   "source": [
    "import numpy as np\n",
    "import pandas as pd\n",
    "from sklearn.model_selection import train_test_split\n",
    "from sklearn.neighbors import KNeighborsClassifier\n",
    "import matplotlib.pyplot as plt \n",
    " "
   ]
  },
  {
   "cell_type": "code",
   "execution_count": 4,
   "id": "expired-capital",
   "metadata": {},
   "outputs": [],
   "source": [
    "train_df = pd.read_csv(\"C:/Users/Dell/Dropbox (Old)/My PC (DESKTOP-9I2HO18)/Downloads/mnist_train_small.csv\")"
   ]
  },
  {
   "cell_type": "code",
   "execution_count": 5,
   "id": "linear-blues",
   "metadata": {},
   "outputs": [],
   "source": [
    "x_train=train_df.drop([\"6\"],axis=1)\n",
    "x_train=x_train.to_numpy()"
   ]
  },
  {
   "cell_type": "code",
   "execution_count": 6,
   "id": "moving-allen",
   "metadata": {},
   "outputs": [],
   "source": [
    "y_train=train_df[\"6\"]\n",
    "y_train=y_train.to_numpy()"
   ]
  },
  {
   "cell_type": "code",
   "execution_count": 7,
   "id": "driven-arrangement",
   "metadata": {},
   "outputs": [],
   "source": [
    "neigh = KNeighborsClassifier(n_neighbors=11)"
   ]
  },
  {
   "cell_type": "code",
   "execution_count": 8,
   "id": "cross-majority",
   "metadata": {},
   "outputs": [
    {
     "data": {
      "text/plain": [
       "KNeighborsClassifier(n_neighbors=11)"
      ]
     },
     "execution_count": 8,
     "metadata": {},
     "output_type": "execute_result"
    }
   ],
   "source": [
    "neigh.fit(x_train, y_train)"
   ]
  },
  {
   "cell_type": "code",
   "execution_count": 9,
   "id": "latest-award",
   "metadata": {},
   "outputs": [],
   "source": [
    "test_df = pd.read_csv(\"C:/Users/Dell/Dropbox (Old)/My PC (DESKTOP-9I2HO18)/Downloads/mnist_test.csv\")"
   ]
  },
  {
   "cell_type": "code",
   "execution_count": 10,
   "id": "mechanical-admission",
   "metadata": {},
   "outputs": [],
   "source": [
    "feat1=test_df.drop([\"7\"],axis=1) \n",
    "x_test=feat1.to_numpy()"
   ]
  },
  {
   "cell_type": "code",
   "execution_count": 11,
   "id": "major-morning",
   "metadata": {},
   "outputs": [],
   "source": [
    "ydata1=test_df[\"7\"]\n",
    "y_test=ydata1.to_numpy()"
   ]
  },
  {
   "cell_type": "code",
   "execution_count": 12,
   "id": "assisted-british",
   "metadata": {},
   "outputs": [
    {
     "data": {
      "text/plain": [
       "array([2, 1, 0, ..., 4, 5, 6], dtype=int64)"
      ]
     },
     "execution_count": 12,
     "metadata": {},
     "output_type": "execute_result"
    }
   ],
   "source": [
    "y_pred = neigh.predict(x_test)"
   ]
  },
  {
   "cell_type": "code",
   "execution_count": null,
   "id": "accomplished-collect",
   "metadata": {},
   "outputs": [],
   "source": [
    "y_pred=y_pred.round()"
   ]
  },
  {
   "cell_type": "code",
   "execution_count": null,
   "id": "selective-disabled",
   "metadata": {},
   "outputs": [],
   "source": [
    "y_pred=y_pred.astype(\"int\")"
   ]
  },
  {
   "cell_type": "code",
   "execution_count": null,
   "id": "hispanic-northeast",
   "metadata": {},
   "outputs": [],
   "source": [
    "count=0\n",
    "for i in range(0,9999):\n",
    "    if y_test[i]==y_pred[i]:\n",
    "        count+=1"
   ]
  },
  {
   "cell_type": "code",
   "execution_count": null,
   "id": "opened-cliff",
   "metadata": {},
   "outputs": [],
   "source": [
    "accuracy=((count/9999)*100)\n",
    "accuracy"
   ]
  }
 ],
 "metadata": {
  "kernelspec": {
   "display_name": "Python 3",
   "language": "python",
   "name": "python3"
  },
  "language_info": {
   "codemirror_mode": {
    "name": "ipython",
    "version": 3
   },
   "file_extension": ".py",
   "mimetype": "text/x-python",
   "name": "python",
   "nbconvert_exporter": "python",
   "pygments_lexer": "ipython3",
   "version": "3.9.0"
  }
 },
 "nbformat": 4,
 "nbformat_minor": 5
}
