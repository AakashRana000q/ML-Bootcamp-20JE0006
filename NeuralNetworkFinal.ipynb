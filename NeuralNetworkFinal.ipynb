{
 "cells": [
  {
   "cell_type": "code",
   "execution_count": 23,
   "id": "desperate-spare",
   "metadata": {},
   "outputs": [],
   "source": [
    "import pandas as pd\n",
    "import numpy as np\n",
    "import math\n",
    "import matplotlib.pyplot as plt\n",
    "import random\n",
    "from sklearn import preprocessing\n",
    "from pandas import DataFrame"
   ]
  },
  {
   "cell_type": "code",
   "execution_count": 24,
   "id": "noted-healing",
   "metadata": {},
   "outputs": [],
   "source": [
    "train_df = pd.read_csv(\"C:/Users/Dell/Dropbox (Old)/My PC (DESKTOP-9I2HO18)/Downloads/mnist_train_small.csv\")"
   ]
  },
  {
   "cell_type": "markdown",
   "id": "infectious-advocate",
   "metadata": {},
   "source": [
    "Standardisation = preprocessing.StandardScaler()"
   ]
  },
  {
   "cell_type": "code",
   "execution_count": 25,
   "id": "rotary-davis",
   "metadata": {},
   "outputs": [],
   "source": [
    "def sigmoid(z):\n",
    "    return (1.0 / (1 + np.exp(-z)))"
   ]
  },
  {
   "cell_type": "code",
   "execution_count": 26,
   "id": "recognized-weekly",
   "metadata": {},
   "outputs": [],
   "source": [
    "def tanh(z):\n",
    "    t=(np.exp(z)-np.exp(-z))/(np.exp(z)+np.exp(-z))\n",
    "    return t"
   ]
  },
  {
   "cell_type": "code",
   "execution_count": 27,
   "id": "finished-graph",
   "metadata": {},
   "outputs": [],
   "source": [
    "def dtanh(z):\n",
    "    t=(np.exp(z)-np.exp(-z))/(np.exp(z)+np.exp(-z))\n",
    "    dt=1-t**2\n",
    "    return dt"
   ]
  },
  {
   "cell_type": "code",
   "execution_count": 28,
   "id": "occupied-egyptian",
   "metadata": {},
   "outputs": [],
   "source": [
    "def relu(z):\n",
    "    return np.maximum(z, 0)"
   ]
  },
  {
   "cell_type": "code",
   "execution_count": 29,
   "id": "alone-doctrine",
   "metadata": {},
   "outputs": [],
   "source": [
    "def derir(z):\n",
    "    z[z<0] = 0\n",
    "    z[z>=0] = 1\n",
    "    return z\n"
   ]
  },
  {
   "cell_type": "code",
   "execution_count": 30,
   "id": "smoking-transport",
   "metadata": {},
   "outputs": [],
   "source": [
    "num_col=train_df.shape[1]-1"
   ]
  },
  {
   "cell_type": "code",
   "execution_count": 31,
   "id": "automatic-network",
   "metadata": {},
   "outputs": [],
   "source": [
    "num_row=train_df.shape[0]"
   ]
  },
  {
   "cell_type": "code",
   "execution_count": 32,
   "id": "scheduled-convert",
   "metadata": {},
   "outputs": [],
   "source": [
    "x_train=train_df.drop([\"6\"],axis=1)"
   ]
  },
  {
   "cell_type": "code",
   "execution_count": 33,
   "id": "equal-finding",
   "metadata": {},
   "outputs": [],
   "source": [
    "x_train=x_train.to_numpy()"
   ]
  },
  {
   "cell_type": "markdown",
   "id": "presidential-space",
   "metadata": {},
   "source": [
    "x_train=Standardisation.fit_transform(x_train)"
   ]
  },
  {
   "cell_type": "code",
   "execution_count": 34,
   "id": "objective-queens",
   "metadata": {},
   "outputs": [],
   "source": [
    "x_train=x_train.reshape((num_col,num_row))"
   ]
  },
  {
   "cell_type": "code",
   "execution_count": 35,
   "id": "impressed-still",
   "metadata": {},
   "outputs": [
    {
     "data": {
      "text/plain": [
       "(784, 19999)"
      ]
     },
     "execution_count": 35,
     "metadata": {},
     "output_type": "execute_result"
    }
   ],
   "source": [
    "x_train.shape"
   ]
  },
  {
   "cell_type": "code",
   "execution_count": 36,
   "id": "trying-setup",
   "metadata": {},
   "outputs": [],
   "source": [
    "y_train=train_df[\"6\"]"
   ]
  },
  {
   "cell_type": "code",
   "execution_count": 37,
   "id": "large-beverage",
   "metadata": {},
   "outputs": [],
   "source": [
    "y_train=y_train.to_numpy()"
   ]
  },
  {
   "cell_type": "code",
   "execution_count": 38,
   "id": "congressional-processing",
   "metadata": {},
   "outputs": [],
   "source": [
    "y_train=y_train.reshape(1,num_row)"
   ]
  },
  {
   "cell_type": "code",
   "execution_count": 39,
   "id": "surprising-industry",
   "metadata": {},
   "outputs": [
    {
     "data": {
      "text/plain": [
       "(1, 19999)"
      ]
     },
     "execution_count": 39,
     "metadata": {},
     "output_type": "execute_result"
    }
   ],
   "source": [
    "y_train.shape"
   ]
  },
  {
   "cell_type": "code",
   "execution_count": 40,
   "id": "surgical-poetry",
   "metadata": {},
   "outputs": [
    {
     "data": {
      "text/plain": [
       "array([[5, 7, 9, ..., 2, 9, 5]], dtype=int64)"
      ]
     },
     "execution_count": 40,
     "metadata": {},
     "output_type": "execute_result"
    }
   ],
   "source": [
    "y_train"
   ]
  },
  {
   "cell_type": "code",
   "execution_count": 41,
   "id": "alleged-monroe",
   "metadata": {},
   "outputs": [],
   "source": [
    "y_com=np.zeros((10,num_row))"
   ]
  },
  {
   "cell_type": "code",
   "execution_count": 42,
   "id": "several-tonight",
   "metadata": {},
   "outputs": [],
   "source": [
    "for i in range(0,num_row):\n",
    "    o=y_train[0][i]\n",
    "    y_com[o][i]=1"
   ]
  },
  {
   "cell_type": "code",
   "execution_count": 43,
   "id": "theoretical-transportation",
   "metadata": {},
   "outputs": [],
   "source": [
    "class neural_network:\n",
    "    def __init__(self,x_train,y_com,no_of_iters,learn_rate,a,b):\n",
    "        self.x_train=x_train\n",
    "        self.y_com=y_com\n",
    "        #self.change=number\n",
    "        self.numrain=no_of_iters\n",
    "        self.rate=learn_rate\n",
    "        self.num_row=a\n",
    "        self.num_col=b\n",
    "    def training(self):\n",
    "        w1=(np.random.randn(4,self.num_col))*0.01\n",
    "        w2=(np.random.randn(4,4))*0.01\n",
    "        w3=(np.random.randn(10,4))*0.01\n",
    "        b1=np.random.randn(4,1)\n",
    "        b2=np.random.randn(4,1)\n",
    "        b3=np.random.randn(10,1)\n",
    "        \n",
    "        \n",
    "        for i in range(0,self.numrain):\n",
    "            w3t=np.transpose(w3)\n",
    "            w2t=np.transpose(w2)\n",
    "            \n",
    "            z1=(np.dot(w1,self.x_train))+b1\n",
    "            a1=relu(z1)\n",
    "            a1t=np.transpose(a1)\n",
    "         \n",
    "            \n",
    "            z2=(np.dot(w2,a1))+b2\n",
    "            a2=relu(z2)\n",
    "            a2t=np.transpose(a2)   \n",
    "            \n",
    "            z3=(np.dot(w3,a2))+b3\n",
    "            a3=sigmoid(z3)\n",
    "            \n",
    "            dz3=(a3-y_com)\n",
    "            dw3=(np.dot(dz3,a2t))/self.num_row\n",
    "            db3=(np.sum(dz3,axis=1,keepdims=True))/self.num_row\n",
    "            \n",
    "            dz2=(np.dot(w3t,dz3))*(derir(z2))\n",
    "            dw2=(np.dot(dz2,a1t))/self.num_row\n",
    "            db2=(np.sum(dz2,axis=1,keepdims=True))/self.num_row\n",
    "            \n",
    "            dz1=(np.dot(w2t,dz2))*(derir(z1))\n",
    "            dw1=(np.dot(dz1,np.transpose(self.x_train)))/self.num_row\n",
    "            db1=(np.sum(dz1,axis=1,keepdims=True))/self.num_row\n",
    "            \n",
    "            w3=w3-(self.rate*(dw3))\n",
    "            b3=b3-(self.rate*(db3))\n",
    "            w2=w2-(self.rate*(dw2))\n",
    "            b2=b2-(self.rate*(db2))\n",
    "            w1=w1-(self.rate*(dw1))\n",
    "            b1=b1-(self.rate*(db1))\n",
    "            cost=(1/2*self.num_row)*np.sum(np.square(a3-y_com))\n",
    "            plt.scatter(i,cost,c=\"red\")\n",
    "        w=[w1,w2,w3]\n",
    "        b=[b1,b2,b3]\n",
    "        return w,b\n",
    "            \n",
    "            \n",
    "            \n",
    "            "
   ]
  },
  {
   "cell_type": "code",
   "execution_count": null,
   "id": "liable-belarus",
   "metadata": {},
   "outputs": [],
   "source": [
    "w=neural_network(x_train,y_train,1000,0.00008,num_row,num_col).training()"
   ]
  },
  {
   "cell_type": "code",
   "execution_count": 95,
   "id": "tribal-bosnia",
   "metadata": {},
   "outputs": [],
   "source": [
    "w1=w[0][0]"
   ]
  },
  {
   "cell_type": "code",
   "execution_count": 96,
   "id": "perceived-fiction",
   "metadata": {},
   "outputs": [],
   "source": [
    "w2=w[0][1]"
   ]
  },
  {
   "cell_type": "code",
   "execution_count": 97,
   "id": "nearby-caution",
   "metadata": {},
   "outputs": [],
   "source": [
    "w3=w[0][2]"
   ]
  },
  {
   "cell_type": "code",
   "execution_count": 98,
   "id": "neutral-spokesman",
   "metadata": {},
   "outputs": [],
   "source": [
    "b1=w[1][0]"
   ]
  },
  {
   "cell_type": "code",
   "execution_count": 99,
   "id": "wanted-direction",
   "metadata": {},
   "outputs": [],
   "source": [
    "b2=w[1][1]"
   ]
  },
  {
   "cell_type": "code",
   "execution_count": 100,
   "id": "executive-venezuela",
   "metadata": {},
   "outputs": [],
   "source": [
    "b3=w[1][2]"
   ]
  },
  {
   "cell_type": "code",
   "execution_count": 101,
   "id": "shaped-receiver",
   "metadata": {},
   "outputs": [],
   "source": [
    "test_df = pd.read_csv(\"C:/Users/Dell/Dropbox (Old)/My PC (DESKTOP-9I2HO18)/Downloads/mnist_test.csv\")"
   ]
  },
  {
   "cell_type": "code",
   "execution_count": 102,
   "id": "solar-airline",
   "metadata": {},
   "outputs": [],
   "source": [
    "num_col1=test_df.shape[1]-1"
   ]
  },
  {
   "cell_type": "code",
   "execution_count": 103,
   "id": "variable-allowance",
   "metadata": {},
   "outputs": [],
   "source": [
    "num_row1=test_df.shape[0]"
   ]
  },
  {
   "cell_type": "code",
   "execution_count": 104,
   "id": "formed-petite",
   "metadata": {},
   "outputs": [],
   "source": [
    "feat1=test_df.drop([\"7\"],axis=1) "
   ]
  },
  {
   "cell_type": "code",
   "execution_count": 105,
   "id": "palestinian-inspection",
   "metadata": {},
   "outputs": [],
   "source": [
    "x_test=feat1.to_numpy()"
   ]
  },
  {
   "cell_type": "markdown",
   "id": "exact-butler",
   "metadata": {},
   "source": [
    "x_test=Standardisation.fit_transform(x_test)"
   ]
  },
  {
   "cell_type": "code",
   "execution_count": 106,
   "id": "competent-victim",
   "metadata": {},
   "outputs": [],
   "source": [
    "x_test=x_test.reshape(784,9999)"
   ]
  },
  {
   "cell_type": "code",
   "execution_count": 107,
   "id": "trained-engineering",
   "metadata": {},
   "outputs": [],
   "source": [
    "ydata1=test_df[\"7\"]"
   ]
  },
  {
   "cell_type": "code",
   "execution_count": 108,
   "id": "collectible-cassette",
   "metadata": {},
   "outputs": [],
   "source": [
    "y_test=ydata1.to_numpy()\n",
    "y_test=y_test.astype('int') "
   ]
  },
  {
   "cell_type": "code",
   "execution_count": 109,
   "id": "engaged-travel",
   "metadata": {},
   "outputs": [],
   "source": [
    "y_test=y_test.reshape(1,num_row1)"
   ]
  },
  {
   "cell_type": "code",
   "execution_count": 110,
   "id": "federal-ordering",
   "metadata": {},
   "outputs": [],
   "source": [
    "def predict():\n",
    "            \n",
    "    z1=(np.dot(w1,x_test))+b1\n",
    "    a1=relu(z1)\n",
    "    a1t=np.transpose(a1)\n",
    "         \n",
    "    z2=(np.dot(w2,a1))+b2\n",
    "    a2=relu(z2)\n",
    "    a2t=np.transpose(a2)   \n",
    "            \n",
    "    z3=(np.dot(w3,a2))+b3\n",
    "    a3=sigmoid(z3)\n",
    "    \n",
    "    return a3\n",
    "            \n",
    "    "
   ]
  },
  {
   "cell_type": "code",
   "execution_count": 111,
   "id": "narrow-cross",
   "metadata": {},
   "outputs": [
    {
     "data": {
      "text/plain": [
       "array([[0.05861998, 0.05017808, 0.01996063, ..., 0.05585839, 0.05452927,\n",
       "        0.02610886],\n",
       "       [0.05760355, 0.04725196, 0.01568808, ..., 0.05730352, 0.05462042,\n",
       "        0.02258492],\n",
       "       [0.09314661, 0.08783726, 0.06519239, ..., 0.09504786, 0.09291191,\n",
       "        0.07324321],\n",
       "       ...,\n",
       "       [0.07373464, 0.0684027 , 0.04029392, ..., 0.0658957 , 0.06827716,\n",
       "        0.04364682],\n",
       "       [0.03531584, 0.02849671, 0.0096138 , ..., 0.03668033, 0.03522342,\n",
       "        0.014145  ],\n",
       "       [0.07322012, 0.06459331, 0.032356  , ..., 0.07391249, 0.07092059,\n",
       "        0.04117299]])"
      ]
     },
     "execution_count": 111,
     "metadata": {},
     "output_type": "execute_result"
    }
   ],
   "source": [
    "a3=predict()\n",
    "a3             "
   ]
  },
  {
   "cell_type": "code",
   "execution_count": 112,
   "id": "japanese-variable",
   "metadata": {},
   "outputs": [],
   "source": [
    "y_ans=a3.argmax(axis=0)\n",
    "y_ans=y_ans.reshape(1,num_row1)\n"
   ]
  },
  {
   "cell_type": "code",
   "execution_count": 113,
   "id": "functioning-enhancement",
   "metadata": {},
   "outputs": [
    {
     "data": {
      "text/plain": [
       "array([[2, 2, 2, ..., 2, 2, 2]], dtype=int64)"
      ]
     },
     "execution_count": 113,
     "metadata": {},
     "output_type": "execute_result"
    }
   ],
   "source": [
    "y_ans"
   ]
  },
  {
   "cell_type": "code",
   "execution_count": null,
   "id": "better-colombia",
   "metadata": {},
   "outputs": [],
   "source": []
  }
 ],
 "metadata": {
  "kernelspec": {
   "display_name": "Python 3",
   "language": "python",
   "name": "python3"
  },
  "language_info": {
   "codemirror_mode": {
    "name": "ipython",
    "version": 3
   },
   "file_extension": ".py",
   "mimetype": "text/x-python",
   "name": "python",
   "nbconvert_exporter": "python",
   "pygments_lexer": "ipython3",
   "version": "3.9.0"
  }
 },
 "nbformat": 4,
 "nbformat_minor": 5
}
