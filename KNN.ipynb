{
 "cells": [
  {
   "cell_type": "code",
   "execution_count": 1,
   "id": "welsh-discussion",
   "metadata": {},
   "outputs": [],
   "source": [
    "import pandas as pd\n",
    "import numpy as np\n",
    "import math\n",
    "import matplotlib.pyplot as plt\n",
    "import statistics\n",
    "from scipy import stats\n",
    "from pandas import DataFrame"
   ]
  },
  {
   "cell_type": "code",
   "execution_count": 2,
   "id": "antique-celtic",
   "metadata": {},
   "outputs": [],
   "source": [
    "train_df = pd.read_csv(\"C:/Users/Dell/Dropbox (Old)/My PC (DESKTOP-9I2HO18)/Downloads/mnist_train_small.csv\")"
   ]
  },
  {
   "cell_type": "code",
   "execution_count": 3,
   "id": "studied-archive",
   "metadata": {},
   "outputs": [],
   "source": [
    "def euclid_distance(x,y):\n",
    "    return np.sqrt(np.sum(np.square(x-y)))"
   ]
  },
  {
   "cell_type": "code",
   "execution_count": 4,
   "id": "necessary-integer",
   "metadata": {},
   "outputs": [],
   "source": [
    "x_train=train_df.drop([\"6\"],axis=1)"
   ]
  },
  {
   "cell_type": "code",
   "execution_count": 5,
   "id": "different-royal",
   "metadata": {},
   "outputs": [],
   "source": [
    "x_train=x_train.to_numpy()"
   ]
  },
  {
   "cell_type": "code",
   "execution_count": 6,
   "id": "present-authentication",
   "metadata": {},
   "outputs": [
    {
     "data": {
      "text/plain": [
       "(19999, 784)"
      ]
     },
     "execution_count": 6,
     "metadata": {},
     "output_type": "execute_result"
    }
   ],
   "source": [
    "x_train.shape"
   ]
  },
  {
   "cell_type": "code",
   "execution_count": 7,
   "id": "abandoned-maple",
   "metadata": {},
   "outputs": [],
   "source": [
    "y_train=train_df[\"6\"]"
   ]
  },
  {
   "cell_type": "code",
   "execution_count": 8,
   "id": "southern-heading",
   "metadata": {},
   "outputs": [],
   "source": [
    "y_train=y_train.to_numpy()"
   ]
  },
  {
   "cell_type": "code",
   "execution_count": 9,
   "id": "confirmed-scratch",
   "metadata": {},
   "outputs": [
    {
     "data": {
      "text/plain": [
       "(19999,)"
      ]
     },
     "execution_count": 9,
     "metadata": {},
     "output_type": "execute_result"
    }
   ],
   "source": [
    "y_train.shape"
   ]
  },
  {
   "cell_type": "code",
   "execution_count": 10,
   "id": "alone-brazilian",
   "metadata": {},
   "outputs": [],
   "source": [
    "test_df = pd.read_csv(\"C:/Users/Dell/Dropbox (Old)/My PC (DESKTOP-9I2HO18)/Downloads/mnist_test.csv\")"
   ]
  },
  {
   "cell_type": "code",
   "execution_count": 11,
   "id": "acceptable-cardiff",
   "metadata": {},
   "outputs": [],
   "source": [
    "x_test=test_df.drop([\"7\"],axis=1)\n",
    "x_test=x_test.to_numpy()"
   ]
  },
  {
   "cell_type": "code",
   "execution_count": 12,
   "id": "statistical-shopper",
   "metadata": {},
   "outputs": [],
   "source": [
    "y_test=test_df[\"7\"]\n",
    "y_test=y_test.to_numpy()"
   ]
  },
  {
   "cell_type": "code",
   "execution_count": 13,
   "id": "unusual-veteran",
   "metadata": {},
   "outputs": [],
   "source": [
    "def sort_ind_list(list1):\n",
    "    return sorted(range(len(list1)),key=list1.__getitem__)\n",
    "    "
   ]
  },
  {
   "cell_type": "code",
   "execution_count": 14,
   "id": "norman-twist",
   "metadata": {},
   "outputs": [],
   "source": [
    "class knn:\n",
    "    def __init__(self,x_train,y_train,x_test,k):\n",
    "        self.x_train=x_train\n",
    "        self.y_train=y_train\n",
    "        self.x_test=x_test\n",
    "        self.numrow=len(x_train)\n",
    "        self.numrow1=len(x_test)\n",
    "        self.numcol=len(x_train[0])\n",
    "        self.k=k\n",
    "    def neighbours(self,x):\n",
    "        d=np.zeros((self.numrow,1),dtype=int)\n",
    "        self.xtest=np.tile(x, (self.numrow, 1))\n",
    "        y= np.square(self.xtest-self.x_train)\n",
    "        d=np.sqrt(y.sum(axis=1))\n",
    "        order = np.argsort(d)\n",
    "        self.y_train = [self.y_train[i] for i in order]\n",
    "        return  statistics.mode(self.y_train[:self.k])\n",
    "    def finalout(self):\n",
    "        for i in range(0,self.numrow1):\n",
    "            y_ans=np.zeros(self.numrow1,dtype=int)\n",
    "            y_ans[i]=self.neighbours(self.x_test[i]) \n",
    "        return y_ans\n",
    "         \n",
    "            \n",
    "        \n",
    "        \n"
   ]
  },
  {
   "cell_type": "code",
   "execution_count": 15,
   "id": "fallen-phone",
   "metadata": {},
   "outputs": [],
   "source": [
    "y_predfin=knn(x_train,y_train,x_test,11).finalout()"
   ]
  },
  {
   "cell_type": "code",
   "execution_count": 17,
   "id": "common-garden",
   "metadata": {},
   "outputs": [
    {
     "data": {
      "text/plain": [
       "array([0, 0, 0, ..., 0, 0, 1])"
      ]
     },
     "execution_count": 17,
     "metadata": {},
     "output_type": "execute_result"
    }
   ],
   "source": [
    "y_predfin"
   ]
  },
  {
   "cell_type": "code",
   "execution_count": 2,
   "id": "yellow-salem",
   "metadata": {},
   "outputs": [],
   "source": [
    "d=[40,89,76,1,2]"
   ]
  },
  {
   "cell_type": "code",
   "execution_count": 3,
   "id": "biblical-marble",
   "metadata": {},
   "outputs": [],
   "source": [
    "a=np.argsort(d)"
   ]
  },
  {
   "cell_type": "code",
   "execution_count": 4,
   "id": "exempt-truck",
   "metadata": {},
   "outputs": [
    {
     "data": {
      "text/plain": [
       "array([3, 4, 0, 2, 1], dtype=int64)"
      ]
     },
     "execution_count": 4,
     "metadata": {},
     "output_type": "execute_result"
    }
   ],
   "source": [
    "a"
   ]
  },
  {
   "cell_type": "code",
   "execution_count": null,
   "id": "polish-corporation",
   "metadata": {},
   "outputs": [],
   "source": []
  }
 ],
 "metadata": {
  "kernelspec": {
   "display_name": "Python 3",
   "language": "python",
   "name": "python3"
  },
  "language_info": {
   "codemirror_mode": {
    "name": "ipython",
    "version": 3
   },
   "file_extension": ".py",
   "mimetype": "text/x-python",
   "name": "python",
   "nbconvert_exporter": "python",
   "pygments_lexer": "ipython3",
   "version": "3.9.0"
  }
 },
 "nbformat": 4,
 "nbformat_minor": 5
}
