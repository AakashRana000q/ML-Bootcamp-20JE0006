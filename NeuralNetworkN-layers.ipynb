{
 "cells": [
  {
   "cell_type": "code",
   "execution_count": null,
   "id": "silver-network",
   "metadata": {},
   "outputs": [],
   "source": [
    "import pandas as pd\n",
    "import numpy as np\n",
    "import math\n",
    "import matplotlib.pyplot as plt\n",
    "import random\n",
    "from sklearn import preprocessing\n",
    "from pandas import DataFrame"
   ]
  },
  {
   "cell_type": "code",
   "execution_count": null,
   "id": "dental-broad",
   "metadata": {},
   "outputs": [],
   "source": [
    "train_df = pd.read_csv(\"C:/Users/Dell/Dropbox (Old)/My PC (DESKTOP-9I2HO18)/Downloads/mnist_train_small.csv\")"
   ]
  },
  {
   "cell_type": "code",
   "execution_count": null,
   "id": "realistic-carolina",
   "metadata": {},
   "outputs": [],
   "source": [
    "def sigmoid(z):\n",
    "    return (1.0 / (1 + np.exp(-z)))"
   ]
  },
  {
   "cell_type": "code",
   "execution_count": null,
   "id": "moved-slope",
   "metadata": {},
   "outputs": [],
   "source": [
    "def relu(z):\n",
    "    return np.maximum(z, 0)"
   ]
  },
  {
   "cell_type": "code",
   "execution_count": null,
   "id": "elegant-pathology",
   "metadata": {},
   "outputs": [],
   "source": [
    "def derir(z):\n",
    "    z[z<0] = 0\n",
    "    z[z>=0] = 1\n",
    "    return z"
   ]
  },
  {
   "cell_type": "code",
   "execution_count": null,
   "id": "surprising-gateway",
   "metadata": {},
   "outputs": [],
   "source": [
    "num_col=train_df.shape[1]-1"
   ]
  },
  {
   "cell_type": "code",
   "execution_count": null,
   "id": "corrected-gnome",
   "metadata": {},
   "outputs": [],
   "source": [
    "num_row=train_df.shape[0]"
   ]
  },
  {
   "cell_type": "code",
   "execution_count": null,
   "id": "theoretical-thriller",
   "metadata": {},
   "outputs": [],
   "source": [
    "x_train=train_df.drop([\"6\"],axis=1)"
   ]
  },
  {
   "cell_type": "code",
   "execution_count": null,
   "id": "compact-appreciation",
   "metadata": {},
   "outputs": [],
   "source": [
    "x_train=x_train.to_numpy()"
   ]
  },
  {
   "cell_type": "code",
   "execution_count": null,
   "id": "decent-factor",
   "metadata": {},
   "outputs": [],
   "source": [
    "x_train=x_train.reshape((num_col,num_row))"
   ]
  },
  {
   "cell_type": "code",
   "execution_count": null,
   "id": "chinese-election",
   "metadata": {},
   "outputs": [],
   "source": [
    "x_train.shape"
   ]
  },
  {
   "cell_type": "code",
   "execution_count": null,
   "id": "catholic-outline",
   "metadata": {},
   "outputs": [],
   "source": [
    "y_train=train_df[\"6\"]"
   ]
  },
  {
   "cell_type": "code",
   "execution_count": null,
   "id": "protective-pricing",
   "metadata": {},
   "outputs": [],
   "source": [
    "y_train=y_train.to_numpy()"
   ]
  },
  {
   "cell_type": "code",
   "execution_count": null,
   "id": "heated-compression",
   "metadata": {},
   "outputs": [],
   "source": [
    "y_train=y_train.reshape(1,num_row)"
   ]
  },
  {
   "cell_type": "code",
   "execution_count": null,
   "id": "filled-drama",
   "metadata": {},
   "outputs": [],
   "source": [
    "y_train.shape"
   ]
  },
  {
   "cell_type": "code",
   "execution_count": null,
   "id": "animal-marijuana",
   "metadata": {},
   "outputs": [],
   "source": [
    "y_com=np.zeros((10,num_row))"
   ]
  },
  {
   "cell_type": "code",
   "execution_count": null,
   "id": "faced-telling",
   "metadata": {},
   "outputs": [],
   "source": [
    "for i in range(0,num_row):\n",
    "    o=y_train[0][i]\n",
    "    y_com[o][i]=1"
   ]
  },
  {
   "cell_type": "code",
   "execution_count": 4,
   "id": "latin-solomon",
   "metadata": {},
   "outputs": [
    {
     "name": "stdout",
     "output_type": "stream",
     "text": [
      "4\n",
      "3\n",
      "2\n",
      "1\n"
     ]
    }
   ],
   "source": [
    "for i in range(4,0,-1):\n",
    "    print(i)"
   ]
  },
  {
   "cell_type": "code",
   "execution_count": null,
   "id": "harmful-current",
   "metadata": {},
   "outputs": [],
   "source": [
    "class neural_network:\n",
    "    def __init__(self,x_train,y_com,num_nodes,num_layers,no_of_iters,learn_rate,a,b):\n",
    "        self.x_train=x_train\n",
    "        self.y_com=y_com\n",
    "        self.n=num_nodes\n",
    "        self.l=num_layers\n",
    "        self.numrain=no_of_iters\n",
    "        self.rate=learn_rate\n",
    "        self.num_row=a\n",
    "        self.num_col=b\n",
    "    def training(self):\n",
    "        w=[]\n",
    "        w[1]=(np.random.randn(self.n,self.num_col))\n",
    "        for i in range(2,self.num_l):\n",
    "            w[i]=(np.random.randn(self.n,self.n))\n",
    "        w[self.l]=(np.random.randn(10,self.n))\n",
    "        \n",
    "        b=[]\n",
    "        for j in range(1,self.l):\n",
    "            b[j]=(np.random.randn(self.n,1))\n",
    "        b[self.l]=(np.random.randn(10,1)\n",
    "        a=[]\n",
    "        a[0]=1\n",
    "        z=[]\n",
    "        z[0]=1\n",
    "        dz=[]\n",
    "        dz[0]=1\n",
    "        dw=[]\n",
    "        dw[0]=1\n",
    "        db=[]\n",
    "        db[0]=1\n",
    "        for k in range(0,self.numrain):\n",
    "            \n",
    "            z[1]=(np.dot(w[1],self.x_train))+b[1]\n",
    "            a[1]=relu(z[1])\n",
    "            for p in range(2,self.l):\n",
    "                z[p]=(np.dot(w[p],a[p-1])+b[p]\n",
    "                a[p]=relu(z[p])\n",
    "            z[self.l]=(np.dot(w[self.l],a[self.l-1]))+b[self.l]\n",
    "            a[self.l]=sigmoid(z[self.l])\n",
    "            \n",
    "            dz[self.l]=(a[self.l]-self.y_com)\n",
    "            \n",
    "            for q in range(self.l,1,-1):\n",
    "                dz[q-1]=(np.dot(np.transpose(w[q]),dz[q]))*(derir(z[q-1]))\n",
    "                dw[q]=(np.dot(dz[self.l],np.transpose(a[self.l-1])))/self.num_row\n",
    "                db[q]=(np.sum(dz[self.l],axis=1,keepdims=True))/self.num_row\n",
    "            \n",
    "            dz[1]=(np.dot(np.transpose(w[2]),dz[2]))*(derir(z[1]))\n",
    "            dw[1]=(np.dot(dz[1],np.transpose(self.x_train)))/self.num_row\n",
    "            db[1]=(np.sum(dz[1],axis=1,keepdims=True))/self.num_row\n",
    "            \n",
    "            for r in range(1,self.l+1):\n",
    "                w[r]=w[r]-(self.rate*(dw[r]))\n",
    "\n",
    "        return w,b\n",
    "            "
   ]
  },
  {
   "cell_type": "code",
   "execution_count": null,
   "id": "unexpected-lebanon",
   "metadata": {},
   "outputs": [],
   "source": [
    "test_df = pd.read_csv(\"C:/Users/Dell/Dropbox (Old)/My PC (DESKTOP-9I2HO18)/Downloads/mnist_test.csv\")"
   ]
  },
  {
   "cell_type": "code",
   "execution_count": null,
   "id": "measured-dallas",
   "metadata": {},
   "outputs": [],
   "source": [
    "num_col1=test_df.shape[1]-1"
   ]
  },
  {
   "cell_type": "code",
   "execution_count": null,
   "id": "illegal-opinion",
   "metadata": {},
   "outputs": [],
   "source": [
    "num_row1=test_df.shape[0]"
   ]
  },
  {
   "cell_type": "code",
   "execution_count": null,
   "id": "instant-reservation",
   "metadata": {},
   "outputs": [],
   "source": [
    "feat1=test_df.drop([\"7\"],axis=1) "
   ]
  },
  {
   "cell_type": "code",
   "execution_count": null,
   "id": "recognized-courtesy",
   "metadata": {},
   "outputs": [],
   "source": [
    "x_test=feat1.to_numpy()"
   ]
  },
  {
   "cell_type": "code",
   "execution_count": null,
   "id": "united-peripheral",
   "metadata": {},
   "outputs": [],
   "source": [
    "x_test=x_test.reshape(784,9999)"
   ]
  },
  {
   "cell_type": "code",
   "execution_count": null,
   "id": "desperate-teens",
   "metadata": {},
   "outputs": [],
   "source": [
    "ydata1=test_df[\"7\"]"
   ]
  },
  {
   "cell_type": "code",
   "execution_count": null,
   "id": "floppy-argentina",
   "metadata": {},
   "outputs": [],
   "source": [
    "y_test=ydata1.to_numpy()\n",
    "y_test=y_test.astype('int') "
   ]
  },
  {
   "cell_type": "code",
   "execution_count": null,
   "id": "understanding-wrong",
   "metadata": {},
   "outputs": [],
   "source": [
    "y_test=y_test.reshape(1,num_row1)"
   ]
  },
  {
   "cell_type": "code",
   "execution_count": null,
   "id": "alive-bedroom",
   "metadata": {},
   "outputs": [],
   "source": [
    "def predict():\n",
    "    z[1]=(np.dot(w[1],x_test))+b[1]\n",
    "    a[1]=relu(z[1])\n",
    "    for p in range(2,self.l):\n",
    "        z[p]=(np.dot(w[p],a[p-1])+b[p]\n",
    "        a[p]=relu(z[p])\n",
    "    z[l]=(np.dot(w[l],a[l-1]))+b[l]\n",
    "    a[l]=sigmoid(z[l])\n",
    "    return a[l]"
   ]
  },
  {
   "cell_type": "code",
   "execution_count": null,
   "id": "loose-controversy",
   "metadata": {},
   "outputs": [],
   "source": [
    "a[l]=predict()\n",
    "a[l]   "
   ]
  },
  {
   "cell_type": "code",
   "execution_count": null,
   "id": "brutal-favor",
   "metadata": {},
   "outputs": [],
   "source": [
    "y_ans=a[l].argmax(axis=0)\n",
    "y_ans=y_ans.reshape(1,num_row1)"
   ]
  },
  {
   "cell_type": "code",
   "execution_count": null,
   "id": "vietnamese-tomorrow",
   "metadata": {},
   "outputs": [],
   "source": [
    "y_ans"
   ]
  },
  {
   "cell_type": "code",
   "execution_count": null,
   "id": "chicken-render",
   "metadata": {},
   "outputs": [],
   "source": [
    "count=0\n",
    "for i in range(0,num_row1):\n",
    "    if y_test[0][i]==y_ans[0][i]:\n",
    "        count+=1"
   ]
  },
  {
   "cell_type": "code",
   "execution_count": null,
   "id": "automotive-paraguay",
   "metadata": {},
   "outputs": [],
   "source": [
    "accuracy=((count/num_row1)*100)\n",
    "accuracy"
   ]
  }
 ],
 "metadata": {
  "kernelspec": {
   "display_name": "Python 3",
   "language": "python",
   "name": "python3"
  },
  "language_info": {
   "codemirror_mode": {
    "name": "ipython",
    "version": 3
   },
   "file_extension": ".py",
   "mimetype": "text/x-python",
   "name": "python",
   "nbconvert_exporter": "python",
   "pygments_lexer": "ipython3",
   "version": "3.9.0"
  }
 },
 "nbformat": 4,
 "nbformat_minor": 5
}
